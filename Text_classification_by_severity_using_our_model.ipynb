{
  "nbformat": 4,
  "nbformat_minor": 0,
  "metadata": {
    "colab": {
      "provenance": [],
      "gpuType": "T4"
    },
    "kernelspec": {
      "name": "python3",
      "display_name": "Python 3"
    },
    "language_info": {
      "name": "python"
    },
    "accelerator": "GPU",
    "widgets": {
      "application/vnd.jupyter.widget-state+json": {
        "fd44e4a51b404b19b7f435435de3123c": {
          "model_module": "@jupyter-widgets/controls",
          "model_name": "HBoxModel",
          "model_module_version": "1.5.0",
          "state": {
            "_dom_classes": [],
            "_model_module": "@jupyter-widgets/controls",
            "_model_module_version": "1.5.0",
            "_model_name": "HBoxModel",
            "_view_count": null,
            "_view_module": "@jupyter-widgets/controls",
            "_view_module_version": "1.5.0",
            "_view_name": "HBoxView",
            "box_style": "",
            "children": [
              "IPY_MODEL_a56f25ca81544da9927f1b4f0d49882e",
              "IPY_MODEL_512f5f43e78c4566b8ff5f719b0a352a",
              "IPY_MODEL_b2e63fc90ebd47a2a556605bb4cf0aa3"
            ],
            "layout": "IPY_MODEL_b55eb78780e6447b8c3dcf2731712da5"
          }
        },
        "a56f25ca81544da9927f1b4f0d49882e": {
          "model_module": "@jupyter-widgets/controls",
          "model_name": "HTMLModel",
          "model_module_version": "1.5.0",
          "state": {
            "_dom_classes": [],
            "_model_module": "@jupyter-widgets/controls",
            "_model_module_version": "1.5.0",
            "_model_name": "HTMLModel",
            "_view_count": null,
            "_view_module": "@jupyter-widgets/controls",
            "_view_module_version": "1.5.0",
            "_view_name": "HTMLView",
            "description": "",
            "description_tooltip": null,
            "layout": "IPY_MODEL_df9c0b56ca5349aea14c58d325272a08",
            "placeholder": "​",
            "style": "IPY_MODEL_648eff42186f4efea748d65263ae007b",
            "value": "Loading checkpoint shards: 100%"
          }
        },
        "512f5f43e78c4566b8ff5f719b0a352a": {
          "model_module": "@jupyter-widgets/controls",
          "model_name": "FloatProgressModel",
          "model_module_version": "1.5.0",
          "state": {
            "_dom_classes": [],
            "_model_module": "@jupyter-widgets/controls",
            "_model_module_version": "1.5.0",
            "_model_name": "FloatProgressModel",
            "_view_count": null,
            "_view_module": "@jupyter-widgets/controls",
            "_view_module_version": "1.5.0",
            "_view_name": "ProgressView",
            "bar_style": "success",
            "description": "",
            "description_tooltip": null,
            "layout": "IPY_MODEL_4fb8d12cd8c54f7d89dd67245a80ed82",
            "max": 3,
            "min": 0,
            "orientation": "horizontal",
            "style": "IPY_MODEL_19c0383f9db24faf96ba9a673169931f",
            "value": 3
          }
        },
        "b2e63fc90ebd47a2a556605bb4cf0aa3": {
          "model_module": "@jupyter-widgets/controls",
          "model_name": "HTMLModel",
          "model_module_version": "1.5.0",
          "state": {
            "_dom_classes": [],
            "_model_module": "@jupyter-widgets/controls",
            "_model_module_version": "1.5.0",
            "_model_name": "HTMLModel",
            "_view_count": null,
            "_view_module": "@jupyter-widgets/controls",
            "_view_module_version": "1.5.0",
            "_view_name": "HTMLView",
            "description": "",
            "description_tooltip": null,
            "layout": "IPY_MODEL_d5f78803b02c4bfa8f535d76327f7885",
            "placeholder": "​",
            "style": "IPY_MODEL_cb62f74daac64be58eb7ae78495e7e01",
            "value": " 3/3 [01:15&lt;00:00, 24.87s/it]"
          }
        },
        "b55eb78780e6447b8c3dcf2731712da5": {
          "model_module": "@jupyter-widgets/base",
          "model_name": "LayoutModel",
          "model_module_version": "1.2.0",
          "state": {
            "_model_module": "@jupyter-widgets/base",
            "_model_module_version": "1.2.0",
            "_model_name": "LayoutModel",
            "_view_count": null,
            "_view_module": "@jupyter-widgets/base",
            "_view_module_version": "1.2.0",
            "_view_name": "LayoutView",
            "align_content": null,
            "align_items": null,
            "align_self": null,
            "border": null,
            "bottom": null,
            "display": null,
            "flex": null,
            "flex_flow": null,
            "grid_area": null,
            "grid_auto_columns": null,
            "grid_auto_flow": null,
            "grid_auto_rows": null,
            "grid_column": null,
            "grid_gap": null,
            "grid_row": null,
            "grid_template_areas": null,
            "grid_template_columns": null,
            "grid_template_rows": null,
            "height": null,
            "justify_content": null,
            "justify_items": null,
            "left": null,
            "margin": null,
            "max_height": null,
            "max_width": null,
            "min_height": null,
            "min_width": null,
            "object_fit": null,
            "object_position": null,
            "order": null,
            "overflow": null,
            "overflow_x": null,
            "overflow_y": null,
            "padding": null,
            "right": null,
            "top": null,
            "visibility": null,
            "width": null
          }
        },
        "df9c0b56ca5349aea14c58d325272a08": {
          "model_module": "@jupyter-widgets/base",
          "model_name": "LayoutModel",
          "model_module_version": "1.2.0",
          "state": {
            "_model_module": "@jupyter-widgets/base",
            "_model_module_version": "1.2.0",
            "_model_name": "LayoutModel",
            "_view_count": null,
            "_view_module": "@jupyter-widgets/base",
            "_view_module_version": "1.2.0",
            "_view_name": "LayoutView",
            "align_content": null,
            "align_items": null,
            "align_self": null,
            "border": null,
            "bottom": null,
            "display": null,
            "flex": null,
            "flex_flow": null,
            "grid_area": null,
            "grid_auto_columns": null,
            "grid_auto_flow": null,
            "grid_auto_rows": null,
            "grid_column": null,
            "grid_gap": null,
            "grid_row": null,
            "grid_template_areas": null,
            "grid_template_columns": null,
            "grid_template_rows": null,
            "height": null,
            "justify_content": null,
            "justify_items": null,
            "left": null,
            "margin": null,
            "max_height": null,
            "max_width": null,
            "min_height": null,
            "min_width": null,
            "object_fit": null,
            "object_position": null,
            "order": null,
            "overflow": null,
            "overflow_x": null,
            "overflow_y": null,
            "padding": null,
            "right": null,
            "top": null,
            "visibility": null,
            "width": null
          }
        },
        "648eff42186f4efea748d65263ae007b": {
          "model_module": "@jupyter-widgets/controls",
          "model_name": "DescriptionStyleModel",
          "model_module_version": "1.5.0",
          "state": {
            "_model_module": "@jupyter-widgets/controls",
            "_model_module_version": "1.5.0",
            "_model_name": "DescriptionStyleModel",
            "_view_count": null,
            "_view_module": "@jupyter-widgets/base",
            "_view_module_version": "1.2.0",
            "_view_name": "StyleView",
            "description_width": ""
          }
        },
        "4fb8d12cd8c54f7d89dd67245a80ed82": {
          "model_module": "@jupyter-widgets/base",
          "model_name": "LayoutModel",
          "model_module_version": "1.2.0",
          "state": {
            "_model_module": "@jupyter-widgets/base",
            "_model_module_version": "1.2.0",
            "_model_name": "LayoutModel",
            "_view_count": null,
            "_view_module": "@jupyter-widgets/base",
            "_view_module_version": "1.2.0",
            "_view_name": "LayoutView",
            "align_content": null,
            "align_items": null,
            "align_self": null,
            "border": null,
            "bottom": null,
            "display": null,
            "flex": null,
            "flex_flow": null,
            "grid_area": null,
            "grid_auto_columns": null,
            "grid_auto_flow": null,
            "grid_auto_rows": null,
            "grid_column": null,
            "grid_gap": null,
            "grid_row": null,
            "grid_template_areas": null,
            "grid_template_columns": null,
            "grid_template_rows": null,
            "height": null,
            "justify_content": null,
            "justify_items": null,
            "left": null,
            "margin": null,
            "max_height": null,
            "max_width": null,
            "min_height": null,
            "min_width": null,
            "object_fit": null,
            "object_position": null,
            "order": null,
            "overflow": null,
            "overflow_x": null,
            "overflow_y": null,
            "padding": null,
            "right": null,
            "top": null,
            "visibility": null,
            "width": null
          }
        },
        "19c0383f9db24faf96ba9a673169931f": {
          "model_module": "@jupyter-widgets/controls",
          "model_name": "ProgressStyleModel",
          "model_module_version": "1.5.0",
          "state": {
            "_model_module": "@jupyter-widgets/controls",
            "_model_module_version": "1.5.0",
            "_model_name": "ProgressStyleModel",
            "_view_count": null,
            "_view_module": "@jupyter-widgets/base",
            "_view_module_version": "1.2.0",
            "_view_name": "StyleView",
            "bar_color": null,
            "description_width": ""
          }
        },
        "d5f78803b02c4bfa8f535d76327f7885": {
          "model_module": "@jupyter-widgets/base",
          "model_name": "LayoutModel",
          "model_module_version": "1.2.0",
          "state": {
            "_model_module": "@jupyter-widgets/base",
            "_model_module_version": "1.2.0",
            "_model_name": "LayoutModel",
            "_view_count": null,
            "_view_module": "@jupyter-widgets/base",
            "_view_module_version": "1.2.0",
            "_view_name": "LayoutView",
            "align_content": null,
            "align_items": null,
            "align_self": null,
            "border": null,
            "bottom": null,
            "display": null,
            "flex": null,
            "flex_flow": null,
            "grid_area": null,
            "grid_auto_columns": null,
            "grid_auto_flow": null,
            "grid_auto_rows": null,
            "grid_column": null,
            "grid_gap": null,
            "grid_row": null,
            "grid_template_areas": null,
            "grid_template_columns": null,
            "grid_template_rows": null,
            "height": null,
            "justify_content": null,
            "justify_items": null,
            "left": null,
            "margin": null,
            "max_height": null,
            "max_width": null,
            "min_height": null,
            "min_width": null,
            "object_fit": null,
            "object_position": null,
            "order": null,
            "overflow": null,
            "overflow_x": null,
            "overflow_y": null,
            "padding": null,
            "right": null,
            "top": null,
            "visibility": null,
            "width": null
          }
        },
        "cb62f74daac64be58eb7ae78495e7e01": {
          "model_module": "@jupyter-widgets/controls",
          "model_name": "DescriptionStyleModel",
          "model_module_version": "1.5.0",
          "state": {
            "_model_module": "@jupyter-widgets/controls",
            "_model_module_version": "1.5.0",
            "_model_name": "DescriptionStyleModel",
            "_view_count": null,
            "_view_module": "@jupyter-widgets/base",
            "_view_module_version": "1.2.0",
            "_view_name": "StyleView",
            "description_width": ""
          }
        }
      }
    }
  },
  "cells": [
    {
      "cell_type": "markdown",
      "source": [
        "***\n",
        "           ***Text classification by severity using LLM**   \n",
        "**Description:** Classifying the text based on severity into 3 categories only for the texts classified as negative by the BERT model. The 3 categories are: mild, moderate and severe.\n",
        "The model used is:\n",
        "* base_model = \"mistralai/Mistral-7B-Instruct-v0.2\"\n",
        "\n",
        "* adapter = \"gargvinayakk/dpo-mistralai-7b-mental-health\" (DPO trained on the base model)\n",
        "\n",
        "**Contributor:** N Priyanka\n",
        "\n",
        "**Datasets used** : testing_data_for_sentiment_analysis.xlsx (This was prepared by me by taking random posts and generating the label and severity by prompting ChatGPT\n",
        "\n",
        "***"
      ],
      "metadata": {
        "id": "YnZ5GXcYgzXT"
      }
    },
    {
      "cell_type": "code",
      "execution_count": null,
      "metadata": {
        "id": "W_RO9tWNwygu"
      },
      "outputs": [],
      "source": [
        "!pip install auto-gptq\n",
        "!pip install optimum\n",
        "!pip -qqq install bitsandbytes accelerate\n",
        "!pip install peft"
      ]
    },
    {
      "cell_type": "code",
      "source": [
        "import torch\n",
        "from transformers import AutoModelForCausalLM, AutoTokenizer\n",
        "from peft import PeftConfig, PeftModel\n",
        "\n",
        "base_model = \"mistralai/Mistral-7B-Instruct-v0.2\"\n",
        "adapter = \"gargvinayakk/dpo-mistralai-7b-mental-health\"\n",
        "\n",
        "# Load tokenizer\n",
        "tokenizer = AutoTokenizer.from_pretrained(\n",
        "    base_model,\n",
        "    add_bos_token=True,\n",
        "    trust_remote_code=True,\n",
        "    padding_side='left'\n",
        ")\n",
        "\n",
        "# Create peft model using base_model and finetuned adapter\n",
        "config = PeftConfig.from_pretrained(adapter)\n",
        "model = AutoModelForCausalLM.from_pretrained(base_model,\n",
        "                                             load_in_4bit=True,\n",
        "                                            device_map='auto',torch_dtype='auto')\n",
        "model = PeftModel.from_pretrained(model, adapter)\n",
        "\n",
        "\n",
        "\n",
        "device = \"cuda\" if torch.cuda.is_available() else \"cpu\"\n",
        "model.to(device)\n",
        "model.eval()"
      ],
      "metadata": {
        "colab": {
          "base_uri": "https://localhost:8080/",
          "height": 1000,
          "referenced_widgets": [
            "fd44e4a51b404b19b7f435435de3123c",
            "a56f25ca81544da9927f1b4f0d49882e",
            "512f5f43e78c4566b8ff5f719b0a352a",
            "b2e63fc90ebd47a2a556605bb4cf0aa3",
            "b55eb78780e6447b8c3dcf2731712da5",
            "df9c0b56ca5349aea14c58d325272a08",
            "648eff42186f4efea748d65263ae007b",
            "4fb8d12cd8c54f7d89dd67245a80ed82",
            "19c0383f9db24faf96ba9a673169931f",
            "d5f78803b02c4bfa8f535d76327f7885",
            "cb62f74daac64be58eb7ae78495e7e01"
          ]
        },
        "id": "KQeUdKyAwzpC",
        "outputId": "a451a1a1-892b-4bbc-c768-f14db88b653e"
      },
      "execution_count": 3,
      "outputs": [
        {
          "output_type": "stream",
          "name": "stderr",
          "text": [
            "The `load_in_4bit` and `load_in_8bit` arguments are deprecated and will be removed in the future versions. Please, pass a `BitsAndBytesConfig` object in `quantization_config` argument instead.\n"
          ]
        },
        {
          "output_type": "display_data",
          "data": {
            "text/plain": [
              "Loading checkpoint shards:   0%|          | 0/3 [00:00<?, ?it/s]"
            ],
            "application/vnd.jupyter.widget-view+json": {
              "version_major": 2,
              "version_minor": 0,
              "model_id": "fd44e4a51b404b19b7f435435de3123c"
            }
          },
          "metadata": {}
        },
        {
          "output_type": "execute_result",
          "data": {
            "text/plain": [
              "PeftModelForCausalLM(\n",
              "  (base_model): LoraModel(\n",
              "    (model): MistralForCausalLM(\n",
              "      (model): MistralModel(\n",
              "        (embed_tokens): Embedding(32000, 4096)\n",
              "        (layers): ModuleList(\n",
              "          (0-31): 32 x MistralDecoderLayer(\n",
              "            (self_attn): MistralSdpaAttention(\n",
              "              (q_proj): lora.Linear4bit(\n",
              "                (base_layer): Linear4bit(in_features=4096, out_features=4096, bias=False)\n",
              "                (lora_dropout): ModuleDict(\n",
              "                  (default): Dropout(p=0.05, inplace=False)\n",
              "                )\n",
              "                (lora_A): ModuleDict(\n",
              "                  (default): Linear(in_features=4096, out_features=8, bias=False)\n",
              "                )\n",
              "                (lora_B): ModuleDict(\n",
              "                  (default): Linear(in_features=8, out_features=4096, bias=False)\n",
              "                )\n",
              "                (lora_embedding_A): ParameterDict()\n",
              "                (lora_embedding_B): ParameterDict()\n",
              "              )\n",
              "              (k_proj): lora.Linear4bit(\n",
              "                (base_layer): Linear4bit(in_features=4096, out_features=1024, bias=False)\n",
              "                (lora_dropout): ModuleDict(\n",
              "                  (default): Dropout(p=0.05, inplace=False)\n",
              "                )\n",
              "                (lora_A): ModuleDict(\n",
              "                  (default): Linear(in_features=4096, out_features=8, bias=False)\n",
              "                )\n",
              "                (lora_B): ModuleDict(\n",
              "                  (default): Linear(in_features=8, out_features=1024, bias=False)\n",
              "                )\n",
              "                (lora_embedding_A): ParameterDict()\n",
              "                (lora_embedding_B): ParameterDict()\n",
              "              )\n",
              "              (v_proj): lora.Linear4bit(\n",
              "                (base_layer): Linear4bit(in_features=4096, out_features=1024, bias=False)\n",
              "                (lora_dropout): ModuleDict(\n",
              "                  (default): Dropout(p=0.05, inplace=False)\n",
              "                )\n",
              "                (lora_A): ModuleDict(\n",
              "                  (default): Linear(in_features=4096, out_features=8, bias=False)\n",
              "                )\n",
              "                (lora_B): ModuleDict(\n",
              "                  (default): Linear(in_features=8, out_features=1024, bias=False)\n",
              "                )\n",
              "                (lora_embedding_A): ParameterDict()\n",
              "                (lora_embedding_B): ParameterDict()\n",
              "              )\n",
              "              (o_proj): lora.Linear4bit(\n",
              "                (base_layer): Linear4bit(in_features=4096, out_features=4096, bias=False)\n",
              "                (lora_dropout): ModuleDict(\n",
              "                  (default): Dropout(p=0.05, inplace=False)\n",
              "                )\n",
              "                (lora_A): ModuleDict(\n",
              "                  (default): Linear(in_features=4096, out_features=8, bias=False)\n",
              "                )\n",
              "                (lora_B): ModuleDict(\n",
              "                  (default): Linear(in_features=8, out_features=4096, bias=False)\n",
              "                )\n",
              "                (lora_embedding_A): ParameterDict()\n",
              "                (lora_embedding_B): ParameterDict()\n",
              "              )\n",
              "              (rotary_emb): MistralRotaryEmbedding()\n",
              "            )\n",
              "            (mlp): MistralMLP(\n",
              "              (gate_proj): lora.Linear4bit(\n",
              "                (base_layer): Linear4bit(in_features=4096, out_features=14336, bias=False)\n",
              "                (lora_dropout): ModuleDict(\n",
              "                  (default): Dropout(p=0.05, inplace=False)\n",
              "                )\n",
              "                (lora_A): ModuleDict(\n",
              "                  (default): Linear(in_features=4096, out_features=8, bias=False)\n",
              "                )\n",
              "                (lora_B): ModuleDict(\n",
              "                  (default): Linear(in_features=8, out_features=14336, bias=False)\n",
              "                )\n",
              "                (lora_embedding_A): ParameterDict()\n",
              "                (lora_embedding_B): ParameterDict()\n",
              "              )\n",
              "              (up_proj): lora.Linear4bit(\n",
              "                (base_layer): Linear4bit(in_features=4096, out_features=14336, bias=False)\n",
              "                (lora_dropout): ModuleDict(\n",
              "                  (default): Dropout(p=0.05, inplace=False)\n",
              "                )\n",
              "                (lora_A): ModuleDict(\n",
              "                  (default): Linear(in_features=4096, out_features=8, bias=False)\n",
              "                )\n",
              "                (lora_B): ModuleDict(\n",
              "                  (default): Linear(in_features=8, out_features=14336, bias=False)\n",
              "                )\n",
              "                (lora_embedding_A): ParameterDict()\n",
              "                (lora_embedding_B): ParameterDict()\n",
              "              )\n",
              "              (down_proj): lora.Linear4bit(\n",
              "                (base_layer): Linear4bit(in_features=14336, out_features=4096, bias=False)\n",
              "                (lora_dropout): ModuleDict(\n",
              "                  (default): Dropout(p=0.05, inplace=False)\n",
              "                )\n",
              "                (lora_A): ModuleDict(\n",
              "                  (default): Linear(in_features=14336, out_features=8, bias=False)\n",
              "                )\n",
              "                (lora_B): ModuleDict(\n",
              "                  (default): Linear(in_features=8, out_features=4096, bias=False)\n",
              "                )\n",
              "                (lora_embedding_A): ParameterDict()\n",
              "                (lora_embedding_B): ParameterDict()\n",
              "              )\n",
              "              (act_fn): SiLU()\n",
              "            )\n",
              "            (input_layernorm): MistralRMSNorm()\n",
              "            (post_attention_layernorm): MistralRMSNorm()\n",
              "          )\n",
              "        )\n",
              "        (norm): MistralRMSNorm()\n",
              "      )\n",
              "      (lm_head): Linear(in_features=4096, out_features=32000, bias=False)\n",
              "    )\n",
              "  )\n",
              ")"
            ]
          },
          "metadata": {},
          "execution_count": 3
        }
      ]
    },
    {
      "cell_type": "code",
      "source": [
        "import pandas as pd\n",
        "\n",
        "df = pd.read_excel(\"/content/drive/MyDrive/Mental_health_prediction/testing_data_for_sentiment_analysis.xlsx\", sheet_name =\"Sheet2\")"
      ],
      "metadata": {
        "id": "neV5lPxj0hHV"
      },
      "execution_count": 4,
      "outputs": []
    },
    {
      "cell_type": "code",
      "source": [
        "df.shape"
      ],
      "metadata": {
        "colab": {
          "base_uri": "https://localhost:8080/"
        },
        "id": "4UOTOXETcUT_",
        "outputId": "f81c04bb-70f7-4c22-d29a-f4dad7046473"
      },
      "execution_count": 5,
      "outputs": [
        {
          "output_type": "execute_result",
          "data": {
            "text/plain": [
              "(16, 3)"
            ]
          },
          "metadata": {},
          "execution_count": 5
        }
      ]
    },
    {
      "cell_type": "code",
      "source": [
        "prompt = \"Classify the text into three categories: mild, moderate and severe based on the severity of the text. Do not provide any explanation. Provide only the category.\""
      ],
      "metadata": {
        "id": "_kZYLTobw9vh"
      },
      "execution_count": 6,
      "outputs": []
    },
    {
      "cell_type": "code",
      "source": [
        "user_prompt = df['text'].tolist()"
      ],
      "metadata": {
        "id": "MSdvfNqmw9sq"
      },
      "execution_count": 7,
      "outputs": []
    },
    {
      "cell_type": "code",
      "source": [
        "outputs = []\n",
        "for text in user_prompt:\n",
        "  text = f\"{prompt} [INST] {text} [/INST]\"\n",
        "  inputs = tokenizer(text, return_tensors=\"pt\")\n",
        "  # Set padding token\n",
        "  tokenizer.add_special_tokens({\"pad_token\": \"[PAD]\"})\n",
        "  # generate output\n",
        "  output = model.generate(input_ids=inputs[\"input_ids\"].to(\"cuda\"),max_length=512,temperature=0.1,pad_token_id=tokenizer.pad_token_id)\n",
        "  outputs.append(output)"
      ],
      "metadata": {
        "colab": {
          "base_uri": "https://localhost:8080/"
        },
        "id": "fUWBP2RzxBHO",
        "outputId": "5f228380-1122-4356-ca6c-d4185e04f77d"
      },
      "execution_count": 8,
      "outputs": [
        {
          "output_type": "stream",
          "name": "stderr",
          "text": [
            "/usr/local/lib/python3.10/dist-packages/transformers/generation/configuration_utils.py:410: UserWarning: `do_sample` is set to `False`. However, `temperature` is set to `0.1` -- this flag is only used in sample-based generation modes. You should set `do_sample=True` or unset `temperature`.\n",
            "  warnings.warn(\n",
            "/usr/local/lib/python3.10/dist-packages/transformers/generation/configuration_utils.py:410: UserWarning: `do_sample` is set to `False`. However, `temperature` is set to `0.1` -- this flag is only used in sample-based generation modes. You should set `do_sample=True` or unset `temperature`.\n",
            "  warnings.warn(\n"
          ]
        }
      ]
    },
    {
      "cell_type": "code",
      "source": [
        "# Convert each tensor to NumPy array\n",
        "numpy_arrays = [tensor.cpu().numpy() for tensor in outputs]"
      ],
      "metadata": {
        "id": "4dA-p5n_1wKc"
      },
      "execution_count": 9,
      "outputs": []
    },
    {
      "cell_type": "code",
      "source": [
        "numpy_arrays"
      ],
      "metadata": {
        "colab": {
          "base_uri": "https://localhost:8080/"
        },
        "id": "dibVFs6A86Gg",
        "outputId": "7ab89eeb-9a74-420e-b07d-4db403145137"
      },
      "execution_count": 10,
      "outputs": [
        {
          "output_type": "execute_result",
          "data": {
            "text/plain": [
              "[array([[    1,  4950,  1575,   272,  2245,   778,  1712, 13187, 28747,\n",
              "         16583, 28725, 22651,   304, 13645,  2818,   356,   272,  2425,\n",
              "           472,   302,   272,  2245, 28723,  2378,   459,  3084,   707,\n",
              "         13268, 28723,  7133,   547,   865,   272,  8011, 28723,   733,\n",
              "         16289, 28793,   315,   873,   315,   927,   298,  3215,   395,\n",
              "           586, 14992, 28723,  1092,   315,   949, 28742, 28707,   873,\n",
              "           910,   304,   315,   949, 28742, 28707,   947,   298,  1912,\n",
              "          3637, 28723,  5660,   541,   315,  3215,   395, 14992,  1671,\n",
              "          7124,  3637, 28804,   733, 28748, 16289, 28793,  3813,   263,\n",
              "           380, 28723,   415,  2245, 12825,   396, 13619,   302, 14992,\n",
              "           562,   264, 19238,   617,   298,  5695,  1316,   442,  4098,\n",
              "           378,   395,  2663, 28723,   851, 12308,   264, 22651,  2184,\n",
              "           302,  2425,   472, 28723,  2993, 28725,   378, 28742, 28713,\n",
              "          2278,   298,  5039,   369, 11246,  5024,  1316,   541,   347,\n",
              "           264, 13040,  3707,  5083, 16097, 14992, 28723,     2]]),\n",
              " array([[    1,  4950,  1575,   272,  2245,   778,  1712, 13187, 28747,\n",
              "         16583, 28725, 22651,   304, 13645,  2818,   356,   272,  2425,\n",
              "           472,   302,   272,  2245, 28723,  2378,   459,  3084,   707,\n",
              "         13268, 28723,  7133,   547,   865,   272,  8011, 28723,   733,\n",
              "         16289, 28793,   315,  1601,   737,   315, 28742, 28719, 10876,\n",
              "          9914, 14916,   395,  6203,   304,  8570,   356,  2809,  4077,\n",
              "           369,  1038,   528,  1601,   297,   770, 16780,   304,   297,\n",
              "         20684, 28723,   733, 28748, 16289, 28793,  3813,   263,   380,\n",
              "         28723,   851,  2245, 12308,   264,  5864,  5088,   356,  9388,\n",
              "           302,   297,   770,   364,  2426,   304,   297, 10165, 28725,\n",
              "         17888,   264, 22651,  2184,   302,  2425,   472, 28723,     2]]),\n",
              " array([[    1,  4950,  1575,   272,  2245,   778,  1712, 13187, 28747,\n",
              "         16583, 28725, 22651,   304, 13645,  2818,   356,   272,  2425,\n",
              "           472,   302,   272,  2245, 28723,  2378,   459,  3084,   707,\n",
              "         13268, 28723,  7133,   547,   865,   272,  8011, 28723,   733,\n",
              "         16289, 28793,   315,  1300,  3561, 21400,   586,  2187,   304,\n",
              "          9293,   298,  2663,   356,  2809,  4077, 28725,   304,   378,\n",
              "         28742, 28713,  2492,   528,  1601,  1008, 28733, 13787,   304,\n",
              "         26658,   395,  3561, 28723,   733, 28748, 16289, 28793,  3813,\n",
              "           263,   380, 28723,   851,  2245, 12825,  9388,   302,  1008,\n",
              "         28733, 13787,  1467,   304, 20581,   763,  1494,  2940,   298,\n",
              "          2809,  4077,  6085, 16149, 28725, 20223,   264, 22651,  2184,\n",
              "           302,  2425,   472, 28723,     2]]),\n",
              " array([[    1,  4950,  1575,   272,  2245,   778,  1712, 13187, 28747,\n",
              "         16583, 28725, 22651,   304, 13645,  2818,   356,   272,  2425,\n",
              "           472,   302,   272,  2245, 28723,  2378,   459,  3084,   707,\n",
              "         13268, 28723,  7133,   547,   865,   272,  8011, 28723,   733,\n",
              "         16289, 28793,  1602,   511,   315,  1038,  3561,  4610,  1671,\n",
              "           272,   905,   693,  1269,   528,  4610, 28804,  2961,   369,\n",
              "           590, 28809,   267,  4214, 28725,   315,  1601,  7456, 28723,\n",
              "           661, 28809, 28713,   750,   989,  3370,  1055,   562,   315,\n",
              "          1709,   298,   347,  9638,   298,  3079,  8810,   304,  7126,\n",
              "         28723,   733, 28748, 16289, 28793,  3813,   263,   380, 28723,\n",
              "           415,  2245, 13966,  9388,   302,  7456,  1467,   304, 14426,\n",
              "          5029,   288,  1024, 10121,   905,   693,  4248, 15079, 28725,\n",
              "         20223,   264, 22651,  2184,   302, 10526, 25669, 28723,     2]]),\n",
              " array([[    1,  4950,  1575,   272,  2245,   778,  1712, 13187, 28747,\n",
              "         16583, 28725, 22651,   304, 13645,  2818,   356,   272,  2425,\n",
              "           472,   302,   272,  2245, 28723,  2378,   459,  3084,   707,\n",
              "         13268, 28723,  7133,   547,   865,   272,  8011, 28723,   733,\n",
              "         16289, 28793,  4615,  9365,  4407,  1503,   304,   737,   264,\n",
              "         18396,   298,  3376,  1401,   528, 28723,   733, 28748, 16289,\n",
              "         28793,  1091, 10888, 28723,     2]]),\n",
              " array([[    1,  4950,  1575,   272,  2245,   778,  1712, 13187, 28747,\n",
              "         16583, 28725, 22651,   304, 13645,  2818,   356,   272,  2425,\n",
              "           472,   302,   272,  2245, 28723,  2378,   459,  3084,   707,\n",
              "         13268, 28723,  7133,   547,   865,   272,  8011, 28723,   733,\n",
              "         16289, 28793,   315, 28742, 28719,  1404,  1059,   741,  1722,\n",
              "           395,   586,  9388,   304,  3561, 28723,   315, 10175,  4289,\n",
              "           304,   315,   511,  2511,   562,  1073,   684,   910,   315,\n",
              "         28742, 28719,  4407,  1503,   304,   910,   315,  8869, 28742,\n",
              "         28707,   347,  1236, 28723,   259,   315, 28742,   333,  1484,\n",
              "          3851,   442, 23010,   601, 16240, 28723,   315, 28742,   333,\n",
              "          1743,  2613,   298,  6293,   586,  4382, 28725,   562,   315,\n",
              "          1484,   625,  1401,   298,   378, 28723,   259,  1602,   541,\n",
              "           315,  2268,   586,  4622,   302,  1250,  4407,  1503,   298,\n",
              "          3376, 28804,   733, 28748, 16289, 28793,  1091, 10888, 28723,\n",
              "           851,  2245,  4072,   274, 14373,  9388,   302,  4407, 28015,\n",
              "         28725,  1488,   300,  6232, 28725,   304,   519,   294, 17594,\n",
              "          1872,   352, 28725,  5432,   708,  4236,   659,   750,  1269,\n",
              "         28723,   661, 28742, 28713,  7974,   298,  4563,   575,   354,\n",
              "          5024,  1316,   513,   368, 28742,   267, 20998,  1167, 12380,\n",
              "         28723,     2]]),\n",
              " array([[    1,  4950,  1575,   272,  2245,   778,  1712, 13187, 28747,\n",
              "         16583, 28725, 22651,   304, 13645,  2818,   356,   272,  2425,\n",
              "           472,   302,   272,  2245, 28723,  2378,   459,  3084,   707,\n",
              "         13268, 28723,  7133,   547,   865,   272,  8011, 28723,   733,\n",
              "         16289, 28793,   315, 28742, 28719,  1404,  1059,   741,  1722,\n",
              "           395,   586,  9388,   304,  3561, 28723,   315, 10175,  4289,\n",
              "           304,   315,   511,  2511,   562,  1073,   684,   910,   315,\n",
              "         28742, 28719,  4407,  1503,   304,   910,   315,  8869, 28742,\n",
              "         28707,   347,  1236, 28723, 28737, 28742,   333,  1484,  3851,\n",
              "           442, 23010,   601, 16240, 28723,   315, 28742,   333,  1743,\n",
              "          2613,   298,  6293,   586,  4382, 28725,   562,   315,  1484,\n",
              "           625,  1401,   298,   378, 28723,  5660,   541,   315,  2268,\n",
              "           586,  4622,   302,  1250,  4407,  1503,   298,  3376, 28804,\n",
              "           733, 28748, 16289, 28793,  1091, 10888, 28723,   851,  2245,\n",
              "          4072,   274, 14373,  9388,   302,  4407, 28015, 28725,  1488,\n",
              "           300,  6232, 28725,   304,   519,   294, 17594,  1872,   352,\n",
              "         28725,  5432,   708,  4236,   659,   750,  1269, 28723,   661,\n",
              "         28742, 28713,  2278,   298,  4563,   575,   354,  1316,   513,\n",
              "           368, 28742,   267, 20998,  1167, 13855, 28723,  1047,   368,\n",
              "           442,  2493,   368,   873,   349, 15829, 28725,  3754,   264,\n",
              "          8057,  2528,  5024,   442,   264, 16437,  1338,   297,   574,\n",
              "          1411, 28723,     2]]),\n",
              " array([[    1,  4950,  1575,   272,  2245,   778,  1712, 13187, 28747,\n",
              "         16583, 28725, 22651,   304, 13645,  2818,   356,   272,  2425,\n",
              "           472,   302,   272,  2245, 28723,  2378,   459,  3084,   707,\n",
              "         13268, 28723,  7133,   547,   865,   272,  8011, 28723,   733,\n",
              "         16289, 28793,   315,  1008, 28733, 24418, 28725,   304,   315,\n",
              "          2115,   354,   264,  5413, 28723,  2479,   739,   315,  1032,\n",
              "          1545,  7456,   442, 28285,   288, 28725,   315, 10226,   947,\n",
              "           298,  1008, 28733, 24418, 28723,   733, 28748, 16289, 28793,\n",
              "          1091, 10888, 28723,   851,  2245, 12825,   264, 24777,   304,\n",
              "         14373, 23151,  5083,  1008, 28733, 24418,   297,  2899,   298,\n",
              "         10526, 25669, 28723,     2]]),\n",
              " array([[    1,  4950,  1575,   272,  2245,   778,  1712, 13187, 28747,\n",
              "         16583, 28725, 22651,   304, 13645,  2818,   356,   272,  2425,\n",
              "           472,   302,   272,  2245, 28723,  2378,   459,  3084,   707,\n",
              "         13268, 28723,  7133,   547,   865,   272,  8011, 28723,   733,\n",
              "         16289, 28793,   661, 28742, 28713,   459,  8134,  1132,   298,\n",
              "          1315,   315,  3555,  1250,  7456, 28725,   562,   315,  1743,\n",
              "          1300,   264,  1069,   298,  1601,   369,  1069, 28723,   315,\n",
              "          7105,   298,  7456,  3427, 28725,  1220, 28449,  5979, 28725,\n",
              "           304, 28725,   297,   264, 18337,  1069, 28725,   737,   910,\n",
              "          2607,   378,  2870,   528,  1601, 28723,   315,  3232,   356,\n",
              "          7087, 10936,   302,   586,  1411,  1019,   513,   590,  5405,\n",
              "         28742, 28707, 20954,   442,   315,   776,  1038,   378,  1709,\n",
              "          7087, 28723,   733, 28748, 16289, 28793,  1091, 10888, 28723,\n",
              "           851,  2245, 12825,   264,  3534,   304, 24777, 15613,   395,\n",
              "          7087, 13855, 28725, 13957,  4073,  1197,   302, 14992,   442,\n",
              "           799,  8057,  2528,  4331, 28723,   661, 28742, 28713,  2278,\n",
              "           298,  5039,   369,   456, 16776,  1235,   459, 25385, 16548,\n",
              "           442,   341,  2898, 28725,   562,  3210,   396,  4236,   298,\n",
              "          2380,   272,  2425,   472,   302,   272,  2245,  2818,   356,\n",
              "           871,  3036, 28723,  1047,   368,   442,  2493,   368,   873,\n",
              "           349, 20998, 13645, 10526, 25669, 28725,   378, 28742, 28713,\n",
              "          2278,   298,  5695,  5024,  1316, 28723,     2]]),\n",
              " array([[    1,  4950,  1575,   272,  2245,   778,  1712, 13187, 28747,\n",
              "         16583, 28725, 22651,   304, 13645,  2818,   356,   272,  2425,\n",
              "           472,   302,   272,  2245, 28723,  2378,   459,  3084,   707,\n",
              "         13268, 28723,  7133,   547,   865,   272,  8011, 28723,   733,\n",
              "         16289, 28793,   315,   708,  3774,  7096, 16948,   356,   586,\n",
              "          2105, 28725,   304,   586, 13855,   460,  8512,  3706,   272,\n",
              "           680,   315,   506, 25186,   395,   586,   285,   753, 28717,\n",
              "          2110, 28723,   733, 28748, 16289, 28793,  1091, 10888,     2]]),\n",
              " array([[    1,  4950,  1575,   272,  2245,   778,  1712, 13187, 28747,\n",
              "         16583, 28725, 22651,   304, 13645,  2818,   356,   272,  2425,\n",
              "           472,   302,   272,  2245, 28723,  2378,   459,  3084,   707,\n",
              "         13268, 28723,  7133,   547,   865,   272,  8011, 28723,   733,\n",
              "         16289, 28793,   315,  1484,  1601,   737,  3561, 28723,   315,\n",
              "           541, 28809, 28707,  1019,  1073,  4855,  9229, 28723,   315,\n",
              "          1149,   341, 10112,   288,   304,   315,   541, 28809, 28707,\n",
              "          3229,  2424, 28723,   315,  1743,   625, 13665,   304,  4312,\n",
              "          1985,  3561,  1060,   562,  5915,   948,   582,  8552,   395,\n",
              "         28725,   767,  8315,   737, 28725,  2493,  1112, 28723,   315,\n",
              "           949, 28809, 28707,   873,  2079,   315,  1601,   456,  1069,\n",
              "         28725,   562,   315,  7665,   378, 28723,   733, 28748, 16289,\n",
              "         28793,  1091, 10888,     2]]),\n",
              " array([[    1,  4950,  1575,   272,  2245,   778,  1712, 13187, 28747,\n",
              "         16583, 28725, 22651,   304, 13645,  2818,   356,   272,  2425,\n",
              "           472,   302,   272,  2245, 28723,  2378,   459,  3084,   707,\n",
              "         13268, 28723,  7133,   547,   865,   272,  8011, 28723,   733,\n",
              "         16289, 28793,  4615,  9365, 28186,   486,   586, 22612,  5309,\n",
              "         12380,  3154, 28723, 25164, 19076,   304,  2125,   705,   411,\n",
              "           460,  2492,   378,  1856,   298,   908, 28723,   733, 28748,\n",
              "         16289, 28793,  1091, 10888, 28723,     2]]),\n",
              " array([[    1,  4950,  1575,   272,  2245,   778,  1712, 13187, 28747,\n",
              "         16583, 28725, 22651,   304, 13645,  2818,   356,   272,  2425,\n",
              "           472,   302,   272,  2245, 28723,  2378,   459,  3084,   707,\n",
              "         13268, 28723,  7133,   547,   865,   272,  8011, 28723,   733,\n",
              "         16289, 28793,  3838,   786, 18700,   395,  1488,   300,  6232,\n",
              "          1076, 11402, 28723,   661,  8315,   737,   315, 28742,   584,\n",
              "          1484,   625,   264,  1179,  2125, 28742, 28713,  4289, 28723,\n",
              "           733, 28748, 16289, 28793,  3813,   263,   380, 28723,   851,\n",
              "          2245, 12825,   264, 24777,  4291,   395,  1488,   300,  6232,\n",
              "         28725, 20223,   264, 22651,  2184,   302,  2425,   472, 28723,\n",
              "             2]]),\n",
              " array([[    1,  4950,  1575,   272,  2245,   778,  1712, 13187, 28747,\n",
              "         16583, 28725, 22651,   304, 13645,  2818,   356,   272,  2425,\n",
              "           472,   302,   272,  2245, 28723,  2378,   459,  3084,   707,\n",
              "         13268, 28723,  7133,   547,   865,   272,  8011, 28723,   733,\n",
              "         16289, 28793, 11135, 28710, 10695,   264, 28285,   495,  9560,\n",
              "           304,   541, 28742, 28707,  1709,   298,  1300,   272, 21594,\n",
              "           298,   511,  2424, 28723, 13090,  8315,  1305,  1503, 28723,\n",
              "           733, 28748, 16289, 28793,  1091, 10888, 28723,     2]]),\n",
              " array([[    1,  4950,  1575,   272,  2245,   778,  1712, 13187, 28747,\n",
              "         16583, 28725, 22651,   304, 13645,  2818,   356,   272,  2425,\n",
              "           472,   302,   272,  2245, 28723,  2378,   459,  3084,   707,\n",
              "         13268, 28723,  7133,   547,   865,   272,  8011, 28723,   733,\n",
              "         16289, 28793, 11238,   264, 15107,  3517,   297,   798,  3154,\n",
              "         28723,  4615,  9365, 26100,   304, 15272,  3000,   302,   586,\n",
              "         12758, 28723,   733, 28748, 16289, 28793,  3813,   263,   380,\n",
              "         28723,   851,  2245, 12825, 20998,   264, 15107,  3517,   297,\n",
              "           798, 28725,   690,   541,   347, 25669,   288, 28725,   562,\n",
              "           835,  4498,   594,  9388,   302, 13648,   466,   304, 14717,\n",
              "         28725, 20223,   264, 22651,  2184,   302,  2425,   472, 28723,\n",
              "             2]]),\n",
              " array([[    1,  4950,  1575,   272,  2245,   778,  1712, 13187, 28747,\n",
              "         16583, 28725, 22651,   304, 13645,  2818,   356,   272,  2425,\n",
              "           472,   302,   272,  2245, 28723,  2378,   459,  3084,   707,\n",
              "         13268, 28723,  7133,   547,   865,   272,  8011, 28723,   733,\n",
              "         16289, 28793,  4615,  9365, 18545,   304,  4411,   297,   586,\n",
              "         25566,   395,   287,   508,  8330, 17404, 28723,   661, 28742,\n",
              "         28713,  1856,   298,  4563,   575,   739,   315, 28742, 28719,\n",
              "          8526,   302,  1250,  4612,  2560, 28723,   733, 28748, 16289,\n",
              "         28793,  3813,   263,   380, 28723,   851,  2245,  4072,   274,\n",
              "          9388,   302, 25250,   304,  4813,   302, 16548,  5202,   298,\n",
              "          3687,   395,   287,   508,  8330, 17404, 28725, 17888,   264,\n",
              "         22651,  2184,   302,  2425,   472, 28723,     2]])]"
            ]
          },
          "metadata": {},
          "execution_count": 10
        }
      ]
    },
    {
      "cell_type": "code",
      "source": [
        "# Decode each NumPy array\n",
        "decoded_outputs = []\n",
        "for numpy_array in numpy_arrays:\n",
        "    # Convert NumPy array back to list\n",
        "    output_ids = numpy_array.tolist()[0]\n",
        "\n",
        "    # Decode the token IDs\n",
        "    decoded_output = tokenizer.decode(output_ids, skip_special_tokens=True)\n",
        "\n",
        "    # Add decoded output to the list\n",
        "    decoded_outputs.append(decoded_output)"
      ],
      "metadata": {
        "id": "8Gy6TUumxFZ4"
      },
      "execution_count": 11,
      "outputs": []
    },
    {
      "cell_type": "code",
      "source": [
        "decoded_outputs"
      ],
      "metadata": {
        "colab": {
          "base_uri": "https://localhost:8080/"
        },
        "id": "wyFbWN0H9lHc",
        "outputId": "bb5c1a34-9467-458f-eec9-e8c22c734345"
      },
      "execution_count": 12,
      "outputs": [
        {
          "output_type": "execute_result",
          "data": {
            "text/plain": [
              "[\"Classify the text into three categories: mild, moderate and severe based on the severity of the text. Do not provide any explanation. Provide only the category. [INST] I know I need to deal with my depression. But I don't know how and I don't want to tell anyone.How can I deal with depression without telling anyone? [/INST] Moderate. The text indicates an awareness of depression but a reluctance to seek help or share it with others. This suggests a moderate level of severity. However, it's important to note that seeking professional help can be a crucial step towards managing depression.\",\n",
              " \"Classify the text into three categories: mild, moderate and severe based on the severity of the text. Do not provide any explanation. Provide only the category. [INST] I feel like I'm constantly bombarded with images and messages on social media that make me feel inadequate and insecure. [/INST] Moderate. This text suggests a significant impact on feelings of inadequacy and insecurity, indicating a moderate level of severity.\",\n",
              " \"Classify the text into three categories: mild, moderate and severe based on the severity of the text. Do not provide any explanation. Provide only the category. [INST] I find myself comparing my body and appearance to others on social media, and it's making me feel self-conscious and unhappy with myself. [/INST] Moderate. This text indicates feelings of self-consciousness and unhappiness due to social media comparisons, suggesting a moderate level of severity.\",\n",
              " 'Classify the text into three categories: mild, moderate and severe based on the severity of the text. Do not provide any explanation. Provide only the category. [INST] How do I make myself happy without the people who made me happy? Now that they’re gone, I feel sad. It’s been two months now but I seem to be unable to stay okay and independent. [/INST] Moderate. The text describes feelings of sadness and difficulty coping after losing people who brought happiness, suggesting a moderate level of emotional distress.',\n",
              " 'Classify the text into three categories: mild, moderate and severe based on the severity of the text. Do not provide any explanation. Provide only the category. [INST] Feeling worthless and like a burden to everyone around me. [/INST] Severe.',\n",
              " \"Classify the text into three categories: mild, moderate and severe based on the severity of the text. Do not provide any explanation. Provide only the category. [INST] I'm going through some things with my feelings and myself. I barely sleep and I do nothing but think about how I'm worthless and how I shouldn't be here.   I've never tried or contemplated suicide. I've always wanted to fix my issues, but I never get around to it.   How can I change my feeling of being worthless to everyone? [/INST] Severe. This text expresses intense feelings of worthlessness, insomnia, and suicidal ideation, although no attempt has been made. It's essential to reach out for professional help if you're experiencing these symptoms.\",\n",
              " \"Classify the text into three categories: mild, moderate and severe based on the severity of the text. Do not provide any explanation. Provide only the category. [INST] I'm going through some things with my feelings and myself. I barely sleep and I do nothing but think about how I'm worthless and how I shouldn't be here.I've never tried or contemplated suicide. I've always wanted to fix my issues, but I never get around to it.How can I change my feeling of being worthless to everyone? [/INST] Severe. This text expresses intense feelings of worthlessness, insomnia, and suicidal ideation, although no attempt has been made. It's important to reach out for help if you're experiencing these emotions. If you or someone you know is struggling, contact a mental health professional or a trusted person in your life.\",\n",
              " 'Classify the text into three categories: mild, moderate and severe based on the severity of the text. Do not provide any explanation. Provide only the category. [INST] I self-harm, and I stop for awhile. Then when I see something sad or depressing, I automatically want to self-harm. [/INST] Severe. This text indicates a persistent and intense urge towards self-harm in response to emotional distress.',\n",
              " \"Classify the text into three categories: mild, moderate and severe based on the severity of the text. Do not provide any explanation. Provide only the category. [INST] It's not entirely true to say I enjoy being sad, but I always find a way to feel that way. I listen to sad music, read tragic stories, and, in a twisted way, like how bad it makes me feel. I focus on negative aspects of my life even if they aren't legitimate or I just make it seem negative. [/INST] Severe. This text indicates a deep and persistent engagement with negative emotions, potentially indicative of depression or other mental health conditions. It's important to note that this classification does not imply judgment or stigma, but rather an attempt to understand the severity of the text based on its content. If you or someone you know is experiencing severe emotional distress, it's important to seek professional help.\",\n",
              " 'Classify the text into three categories: mild, moderate and severe based on the severity of the text. Do not provide any explanation. Provide only the category. [INST] I no longer carry expressions on my face, and my emotions are decreasing the more I have fights with my fiancée. [/INST] Severe',\n",
              " 'Classify the text into three categories: mild, moderate and severe based on the severity of the text. Do not provide any explanation. Provide only the category. [INST] I never feel like myself. I can’t even think straight anymore. I start stuttering and I can’t remember anything. I always get nervous and usually talk myself down but recently end up fighting with, what feels like, someone else. I don’t know why I feel this way, but I hate it. [/INST] Severe',\n",
              " 'Classify the text into three categories: mild, moderate and severe based on the severity of the text. Do not provide any explanation. Provide only the category. [INST] Feeling overwhelmed by my PTSD symptoms today. Flashbacks and nightmares are making it hard to function. [/INST] Severe.',\n",
              " \"Classify the text into three categories: mild, moderate and severe based on the severity of the text. Do not provide any explanation. Provide only the category. [INST] Struggling with insomnia again tonight. It feels like I'll never get a good night's sleep. [/INST] Moderate. This text indicates a persistent issue with insomnia, suggesting a moderate level of severity.\",\n",
              " \"Classify the text into three categories: mild, moderate and severe based on the severity of the text. Do not provide any explanation. Provide only the category. [INST] Experiencing a depressive episode and can't seem to find the motivation to do anything. Everything feels pointless. [/INST] Severe.\",\n",
              " 'Classify the text into three categories: mild, moderate and severe based on the severity of the text. Do not provide any explanation. Provide only the category. [INST] Had a panic attack in public today. Feeling embarrassed and ashamed of my anxiety. [/INST] Moderate. This text indicates experiencing a panic attack in public, which can be distressing, but also mentions feelings of embarrassment and shame, suggesting a moderate level of severity.',\n",
              " \"Classify the text into three categories: mild, moderate and severe based on the severity of the text. Do not provide any explanation. Provide only the category. [INST] Feeling isolated and alone in my struggles with bipolar disorder. It's hard to reach out when I'm afraid of being judged. [/INST] Moderate. This text expresses feelings of isolation and fear of judgment related to living with bipolar disorder, indicating a moderate level of severity.\"]"
            ]
          },
          "metadata": {},
          "execution_count": 12
        }
      ]
    },
    {
      "cell_type": "code",
      "source": [
        "len(decoded_outputs)"
      ],
      "metadata": {
        "colab": {
          "base_uri": "https://localhost:8080/"
        },
        "id": "rspOoBi8711k",
        "outputId": "04ad5bb1-bb3a-4bc9-d6c0-e0f7c9cbbfc0"
      },
      "execution_count": 13,
      "outputs": [
        {
          "output_type": "execute_result",
          "data": {
            "text/plain": [
              "16"
            ]
          },
          "metadata": {},
          "execution_count": 13
        }
      ]
    },
    {
      "cell_type": "code",
      "source": [
        "# Extract categories\n",
        "categories = []\n",
        "for sample in decoded_outputs:\n",
        "    category = sample.split(\"] \")[-1].strip() # Extract the last part after \"] \" and remove leading/trailing whitespace\n",
        "    category = category.split(\".\")[0].strip()  # Extract the first part before the period and remove leading/trailing whitespace\n",
        "    category = category.split(\"\\n\")[0].strip()\n",
        "    categories.append(category)"
      ],
      "metadata": {
        "id": "9IUWF-qB9knI"
      },
      "execution_count": 14,
      "outputs": []
    },
    {
      "cell_type": "code",
      "source": [
        "categories"
      ],
      "metadata": {
        "colab": {
          "base_uri": "https://localhost:8080/"
        },
        "id": "EQ7ADxW7gbFF",
        "outputId": "0f690e37-0dfa-4be3-9e4d-786a772fbfa2"
      },
      "execution_count": 28,
      "outputs": [
        {
          "output_type": "execute_result",
          "data": {
            "text/plain": [
              "['Moderate',\n",
              " 'Moderate',\n",
              " 'Moderate',\n",
              " 'Moderate',\n",
              " 'Severe',\n",
              " 'Severe',\n",
              " 'Severe',\n",
              " 'Severe',\n",
              " 'Severe',\n",
              " 'Severe',\n",
              " 'Severe',\n",
              " 'Severe',\n",
              " 'Moderate',\n",
              " 'Severe',\n",
              " 'Moderate',\n",
              " 'Moderate']"
            ]
          },
          "metadata": {},
          "execution_count": 28
        }
      ]
    },
    {
      "cell_type": "markdown",
      "source": [
        "# Plotting the confusion matrix and printing the classification report."
      ],
      "metadata": {
        "id": "uVG1c-dNgjwK"
      }
    },
    {
      "cell_type": "code",
      "source": [
        "y_pred = categories"
      ],
      "metadata": {
        "id": "gbCGE4Fd97fM"
      },
      "execution_count": 22,
      "outputs": []
    },
    {
      "cell_type": "code",
      "source": [
        "y_pred = [s.lower() for s in y_pred]"
      ],
      "metadata": {
        "id": "3sqzN-FAfiwk"
      },
      "execution_count": 25,
      "outputs": []
    },
    {
      "cell_type": "code",
      "source": [
        "y_true = df['severity'].tolist()"
      ],
      "metadata": {
        "id": "FnUg1AwteUVb"
      },
      "execution_count": 17,
      "outputs": []
    },
    {
      "cell_type": "code",
      "source": [
        "from sklearn.metrics import confusion_matrix, classification_report\n",
        "import seaborn as sns\n",
        "import matplotlib.pyplot as plt\n",
        "\n",
        "cm = confusion_matrix(y_true, y_pred)\n",
        "\n",
        "# Plot confusion matrix for severity\n",
        "plt.figure(figsize=(10,4))\n",
        "sns.heatmap(cm, annot=True, fmt='d', cmap='Blues')\n",
        "plt.xlabel('Predicted Severity')\n",
        "plt.ylabel('True Severity')\n",
        "plt.title('Confusion Matrix for Severity')\n",
        "plt.show()\n"
      ],
      "metadata": {
        "colab": {
          "base_uri": "https://localhost:8080/",
          "height": 410
        },
        "id": "k99Qv95LV-8B",
        "outputId": "6c37b0f7-ff38-435e-b054-b2a364f34871"
      },
      "execution_count": 26,
      "outputs": [
        {
          "output_type": "display_data",
          "data": {
            "text/plain": [
              "<Figure size 1000x400 with 2 Axes>"
            ],
            "image/png": "[encoded data removed]"
          },
          "metadata": {}
        }
      ]
    },
    {
      "cell_type": "code",
      "source": [
        "class_report = classification_report(y_true, y_pred)\n",
        "print(class_report)"
      ],
      "metadata": {
        "colab": {
          "base_uri": "https://localhost:8080/"
        },
        "id": "bgF3Q3f3fHzY",
        "outputId": "5fb9497f-6e39-4ada-a74c-054abc804463"
      },
      "execution_count": 27,
      "outputs": [
        {
          "output_type": "stream",
          "name": "stdout",
          "text": [
            "              precision    recall  f1-score   support\n",
            "\n",
            "    moderate       0.86      0.86      0.86         7\n",
            "      severe       0.89      0.89      0.89         9\n",
            "\n",
            "    accuracy                           0.88        16\n",
            "   macro avg       0.87      0.87      0.87        16\n",
            "weighted avg       0.88      0.88      0.88        16\n",
            "\n"
          ]
        }
      ]
    }
  ]
}