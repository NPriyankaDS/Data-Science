{
 "cells": [
  {
   "cell_type": "code",
   "execution_count": 1,
   "id": "b94d3d56-96b8-4c32-a490-229bcb60e895",
   "metadata": {},
   "outputs": [],
   "source": [
    "from sklearn.feature_extraction.text import TfidfVectorizer"
   ]
  },
  {
   "cell_type": "code",
   "execution_count": 2,
   "id": "8d550c1c-1cf1-4e1c-83d9-9e116d0de0be",
   "metadata": {},
   "outputs": [],
   "source": [
    "corpus = [\n",
    "    \"Thor eating pizza, Loki is eating pizza, Ironman ate pizza already\",\n",
    "    \"Apple is announcing new iphone tomorrow\",\n",
    "    \"Tesla is announcing new model-3 tomorrow\",\n",
    "    \"Google is announcing new pixel-6 tomorrow\",\n",
    "    \"Microsoft is announcing new surface tomorrow\",\n",
    "    \"Amazon is announcing new eco-dot tomorrow\",\n",
    "    \"I am eating biryani and you are eating grapes\"\n",
    "]"
   ]
  },
  {
   "cell_type": "code",
   "execution_count": 6,
   "id": "ed99a70c-979c-4597-b0b2-40ec8004708d",
   "metadata": {},
   "outputs": [],
   "source": [
    "#let's create the vectorizer and fit the corpus and transform them accordingly\n",
    "v = TfidfVectorizer()\n",
    "transformed = v.fit_transform(corpus)"
   ]
  },
  {
   "cell_type": "code",
   "execution_count": 7,
   "id": "ea0a7594-a1b2-4bd1-8004-43615de7e74e",
   "metadata": {},
   "outputs": [
    {
     "name": "stdout",
     "output_type": "stream",
     "text": [
      "{'thor': 25, 'eating': 10, 'pizza': 22, 'loki': 17, 'is': 16, 'ironman': 15, 'ate': 7, 'already': 0, 'apple': 5, 'announcing': 4, 'new': 20, 'iphone': 14, 'tomorrow': 26, 'tesla': 24, 'model': 19, 'google': 12, 'pixel': 21, 'microsoft': 18, 'surface': 23, 'amazon': 2, 'eco': 11, 'dot': 9, 'am': 1, 'biryani': 8, 'and': 3, 'you': 27, 'are': 6, 'grapes': 13}\n"
     ]
    }
   ],
   "source": [
    "print(v.vocabulary_)"
   ]
  },
  {
   "cell_type": "code",
   "execution_count": 10,
   "id": "b0f33620-d642-4e03-b097-16ac3fba2fd0",
   "metadata": {},
   "outputs": [
    {
     "data": {
      "text/plain": [
       "array(['already', 'am', 'amazon', 'and', 'announcing', 'apple', 'are',\n",
       "       'ate', 'biryani', 'dot', 'eating', 'eco', 'google', 'grapes',\n",
       "       'iphone', 'ironman', 'is', 'loki', 'microsoft', 'model', 'new',\n",
       "       'pixel', 'pizza', 'surface', 'tesla', 'thor', 'tomorrow', 'you'],\n",
       "      dtype=object)"
      ]
     },
     "execution_count": 10,
     "metadata": {},
     "output_type": "execute_result"
    }
   ],
   "source": [
    "#let's print the idf of each word:\n",
    "\n",
    "all_feature_names = v.get_feature_names_out()\n",
    "all_feature_names"
   ]
  },
  {
   "cell_type": "code",
   "execution_count": 11,
   "id": "86a8bc00-b266-445c-9081-7692f72c0cf4",
   "metadata": {},
   "outputs": [
    {
     "name": "stdout",
     "output_type": "stream",
     "text": [
      "already 2.386294361119891\n",
      "am 2.386294361119891\n",
      "amazon 2.386294361119891\n",
      "and 2.386294361119891\n",
      "announcing 1.2876820724517808\n",
      "apple 2.386294361119891\n",
      "are 2.386294361119891\n",
      "ate 2.386294361119891\n",
      "biryani 2.386294361119891\n",
      "dot 2.386294361119891\n",
      "eating 1.9808292530117262\n",
      "eco 2.386294361119891\n",
      "google 2.386294361119891\n",
      "grapes 2.386294361119891\n",
      "iphone 2.386294361119891\n",
      "ironman 2.386294361119891\n",
      "is 1.1335313926245225\n",
      "loki 2.386294361119891\n",
      "microsoft 2.386294361119891\n",
      "model 2.386294361119891\n",
      "new 1.2876820724517808\n",
      "pixel 2.386294361119891\n",
      "pizza 2.386294361119891\n",
      "surface 2.386294361119891\n",
      "tesla 2.386294361119891\n",
      "thor 2.386294361119891\n",
      "tomorrow 1.2876820724517808\n",
      "you 2.386294361119891\n"
     ]
    }
   ],
   "source": [
    "for word in all_feature_names:\n",
    "    indx = v.vocabulary_.get(word)\n",
    "    idf_score = v.idf_[indx]\n",
    "    print(f\"{word} {idf_score}\")"
   ]
  },
  {
   "cell_type": "code",
   "execution_count": 13,
   "id": "7d4f9ca1-5656-4891-b948-93ffc902fa73",
   "metadata": {},
   "outputs": [
    {
     "name": "stdout",
     "output_type": "stream",
     "text": [
      "[[0.24266547 0.         0.         0.         0.         0.\n",
      "  0.         0.24266547 0.         0.         0.40286636 0.\n",
      "  0.         0.         0.         0.24266547 0.11527033 0.24266547\n",
      "  0.         0.         0.         0.         0.72799642 0.\n",
      "  0.         0.24266547 0.         0.        ]\n",
      " [0.         0.         0.         0.         0.30652086 0.5680354\n",
      "  0.         0.         0.         0.         0.         0.\n",
      "  0.         0.         0.5680354  0.         0.26982671 0.\n",
      "  0.         0.         0.30652086 0.         0.         0.\n",
      "  0.         0.         0.30652086 0.        ]\n",
      " [0.         0.         0.         0.         0.30652086 0.\n",
      "  0.         0.         0.         0.         0.         0.\n",
      "  0.         0.         0.         0.         0.26982671 0.\n",
      "  0.         0.5680354  0.30652086 0.         0.         0.\n",
      "  0.5680354  0.         0.30652086 0.        ]\n",
      " [0.         0.         0.         0.         0.30652086 0.\n",
      "  0.         0.         0.         0.         0.         0.\n",
      "  0.5680354  0.         0.         0.         0.26982671 0.\n",
      "  0.         0.         0.30652086 0.5680354  0.         0.\n",
      "  0.         0.         0.30652086 0.        ]\n",
      " [0.         0.         0.         0.         0.30652086 0.\n",
      "  0.         0.         0.         0.         0.         0.\n",
      "  0.         0.         0.         0.         0.26982671 0.\n",
      "  0.5680354  0.         0.30652086 0.         0.         0.5680354\n",
      "  0.         0.         0.30652086 0.        ]\n",
      " [0.         0.         0.49391316 0.         0.26652333 0.\n",
      "  0.         0.         0.         0.49391316 0.         0.49391316\n",
      "  0.         0.         0.         0.         0.23461736 0.\n",
      "  0.         0.         0.26652333 0.         0.         0.\n",
      "  0.         0.         0.26652333 0.        ]\n",
      " [0.         0.33794257 0.         0.33794257 0.         0.\n",
      "  0.33794257 0.         0.33794257 0.         0.56104271 0.\n",
      "  0.         0.33794257 0.         0.         0.         0.\n",
      "  0.         0.         0.         0.         0.         0.\n",
      "  0.         0.         0.         0.33794257]]\n"
     ]
    }
   ],
   "source": [
    "#let's print the transformed output from tf-idf\n",
    "print(transformed.toarray())"
   ]
  },
  {
   "cell_type": "markdown",
   "id": "a060b77a-fc9a-4fe5-979a-97733231e109",
   "metadata": {},
   "source": [
    "Problem Statement: Given a description about a product sold on e-commerce website, classify it in one of the 4 categories\n",
    "\n",
    "Dataset Credits: https://www.kaggle.com/datasets/saurabhshahane/ecommerce-text-classification\r\n",
    "\r\n",
    "This data consists of two columns.\r\n",
    "Text\tLabel\r\n",
    "Indira Designer Women's Art Mysore Silk Saree With Blouse Piece (Star-Red) This Saree Is Of Art Mysore Silk & Comes With Blouse Piece.\tClothing & Accessories\r\n",
    "IO Crest SY-PCI40010 PCI RAID Host Controller Card Brings new life to any old desktop PC. Connects up to 4 SATA II high speed SATA hard disk drives. Supports Windows 8 and Server 2012\tElectronics\r\n",
    "Operating Systems in Depth About the Author Professor Doeppner is an associate professor of computer science at Brown University. His research interests include mobile computing in education, mobile and ubiquitous computing, operating systems and distribution systems, parallel computing, and security.\tBooks\r\n",
    "*Text*: Description of an item sold on e-commerce website\r\n",
    "*Label*: Category of that item. Total 4 categories: \"Electronics\", \"Household\", \"Books\" and \"Clothing & Accessories\", which almost cover 80% of any E-commerce website."
   ]
  },
  {
   "cell_type": "code",
   "execution_count": 14,
   "id": "d1b7c8a6-d7a6-4235-9bc5-e3170a4b9304",
   "metadata": {},
   "outputs": [],
   "source": [
    "import pandas as pd"
   ]
  },
  {
   "cell_type": "code",
   "execution_count": 15,
   "id": "fc184e26-9f79-452c-99da-e862f8924e0b",
   "metadata": {},
   "outputs": [
    {
     "data": {
      "text/html": [
       "<div>\n",
       "<style scoped>\n",
       "    .dataframe tbody tr th:only-of-type {\n",
       "        vertical-align: middle;\n",
       "    }\n",
       "\n",
       "    .dataframe tbody tr th {\n",
       "        vertical-align: top;\n",
       "    }\n",
       "\n",
       "    .dataframe thead th {\n",
       "        text-align: right;\n",
       "    }\n",
       "</style>\n",
       "<table border=\"1\" class=\"dataframe\">\n",
       "  <thead>\n",
       "    <tr style=\"text-align: right;\">\n",
       "      <th></th>\n",
       "      <th>Text</th>\n",
       "      <th>label</th>\n",
       "    </tr>\n",
       "  </thead>\n",
       "  <tbody>\n",
       "    <tr>\n",
       "      <th>0</th>\n",
       "      <td>Urban Ladder Eisner Low Back Study-Office Comp...</td>\n",
       "      <td>Household</td>\n",
       "    </tr>\n",
       "    <tr>\n",
       "      <th>1</th>\n",
       "      <td>Contrast living Wooden Decorative Box,Painted ...</td>\n",
       "      <td>Household</td>\n",
       "    </tr>\n",
       "    <tr>\n",
       "      <th>2</th>\n",
       "      <td>IO Crest SY-PCI40010 PCI RAID Host Controller ...</td>\n",
       "      <td>Electronics</td>\n",
       "    </tr>\n",
       "    <tr>\n",
       "      <th>3</th>\n",
       "      <td>ISAKAA Baby Socks from Just Born to 8 Years- P...</td>\n",
       "      <td>Clothing &amp; Accessories</td>\n",
       "    </tr>\n",
       "    <tr>\n",
       "      <th>4</th>\n",
       "      <td>Indira Designer Women's Art Mysore Silk Saree ...</td>\n",
       "      <td>Clothing &amp; Accessories</td>\n",
       "    </tr>\n",
       "  </tbody>\n",
       "</table>\n",
       "</div>"
      ],
      "text/plain": [
       "                                                Text                   label\n",
       "0  Urban Ladder Eisner Low Back Study-Office Comp...               Household\n",
       "1  Contrast living Wooden Decorative Box,Painted ...               Household\n",
       "2  IO Crest SY-PCI40010 PCI RAID Host Controller ...             Electronics\n",
       "3  ISAKAA Baby Socks from Just Born to 8 Years- P...  Clothing & Accessories\n",
       "4  Indira Designer Women's Art Mysore Silk Saree ...  Clothing & Accessories"
      ]
     },
     "execution_count": 15,
     "metadata": {},
     "output_type": "execute_result"
    }
   ],
   "source": [
    "df = pd.read_csv(\"Ecommerce_data.csv\")\n",
    "df.head()"
   ]
  },
  {
   "cell_type": "code",
   "execution_count": 16,
   "id": "67c2a14a-3ce0-41c0-971c-0fdee7d322fa",
   "metadata": {},
   "outputs": [
    {
     "data": {
      "text/plain": [
       "Text     False\n",
       "label    False\n",
       "dtype: bool"
      ]
     },
     "execution_count": 16,
     "metadata": {},
     "output_type": "execute_result"
    }
   ],
   "source": [
    "df.isnull().any()"
   ]
  },
  {
   "cell_type": "code",
   "execution_count": 17,
   "id": "40fa7f18-6343-49fe-9293-f68e86053f71",
   "metadata": {},
   "outputs": [
    {
     "data": {
      "text/plain": [
       "label\n",
       "Household                 6000\n",
       "Electronics               6000\n",
       "Clothing & Accessories    6000\n",
       "Books                     6000\n",
       "Name: count, dtype: int64"
      ]
     },
     "execution_count": 17,
     "metadata": {},
     "output_type": "execute_result"
    }
   ],
   "source": [
    "df.label.value_counts()"
   ]
  },
  {
   "cell_type": "markdown",
   "id": "9c071bed-59be-423b-b829-f013f5471b41",
   "metadata": {},
   "source": [
    "The dataset is a balanced dataset as all the 4 classes have the same number of data"
   ]
  },
  {
   "cell_type": "code",
   "execution_count": 18,
   "id": "e55c5f0b-7af4-4cae-ba5e-a66c6d8e9e0c",
   "metadata": {},
   "outputs": [],
   "source": [
    "df['category']=df['label'].map({\n",
    "    'Household': 0,\n",
    "    'Electronics': 1,\n",
    "    'Clothing & Accessories': 2,\n",
    "    'Books': 3\n",
    "\n",
    "})\n",
    "    "
   ]
  },
  {
   "cell_type": "code",
   "execution_count": 19,
   "id": "74a2f19d-da02-4454-aa98-30da8adf1044",
   "metadata": {},
   "outputs": [
    {
     "data": {
      "text/html": [
       "<div>\n",
       "<style scoped>\n",
       "    .dataframe tbody tr th:only-of-type {\n",
       "        vertical-align: middle;\n",
       "    }\n",
       "\n",
       "    .dataframe tbody tr th {\n",
       "        vertical-align: top;\n",
       "    }\n",
       "\n",
       "    .dataframe thead th {\n",
       "        text-align: right;\n",
       "    }\n",
       "</style>\n",
       "<table border=\"1\" class=\"dataframe\">\n",
       "  <thead>\n",
       "    <tr style=\"text-align: right;\">\n",
       "      <th></th>\n",
       "      <th>Text</th>\n",
       "      <th>label</th>\n",
       "      <th>category</th>\n",
       "    </tr>\n",
       "  </thead>\n",
       "  <tbody>\n",
       "    <tr>\n",
       "      <th>0</th>\n",
       "      <td>Urban Ladder Eisner Low Back Study-Office Comp...</td>\n",
       "      <td>Household</td>\n",
       "      <td>0</td>\n",
       "    </tr>\n",
       "    <tr>\n",
       "      <th>1</th>\n",
       "      <td>Contrast living Wooden Decorative Box,Painted ...</td>\n",
       "      <td>Household</td>\n",
       "      <td>0</td>\n",
       "    </tr>\n",
       "    <tr>\n",
       "      <th>2</th>\n",
       "      <td>IO Crest SY-PCI40010 PCI RAID Host Controller ...</td>\n",
       "      <td>Electronics</td>\n",
       "      <td>1</td>\n",
       "    </tr>\n",
       "    <tr>\n",
       "      <th>3</th>\n",
       "      <td>ISAKAA Baby Socks from Just Born to 8 Years- P...</td>\n",
       "      <td>Clothing &amp; Accessories</td>\n",
       "      <td>2</td>\n",
       "    </tr>\n",
       "    <tr>\n",
       "      <th>4</th>\n",
       "      <td>Indira Designer Women's Art Mysore Silk Saree ...</td>\n",
       "      <td>Clothing &amp; Accessories</td>\n",
       "      <td>2</td>\n",
       "    </tr>\n",
       "  </tbody>\n",
       "</table>\n",
       "</div>"
      ],
      "text/plain": [
       "                                                Text                   label  \\\n",
       "0  Urban Ladder Eisner Low Back Study-Office Comp...               Household   \n",
       "1  Contrast living Wooden Decorative Box,Painted ...               Household   \n",
       "2  IO Crest SY-PCI40010 PCI RAID Host Controller ...             Electronics   \n",
       "3  ISAKAA Baby Socks from Just Born to 8 Years- P...  Clothing & Accessories   \n",
       "4  Indira Designer Women's Art Mysore Silk Saree ...  Clothing & Accessories   \n",
       "\n",
       "   category  \n",
       "0         0  \n",
       "1         0  \n",
       "2         1  \n",
       "3         2  \n",
       "4         2  "
      ]
     },
     "execution_count": 19,
     "metadata": {},
     "output_type": "execute_result"
    }
   ],
   "source": [
    "df.head()"
   ]
  },
  {
   "cell_type": "code",
   "execution_count": 22,
   "id": "3fd29986-4711-440e-bb94-33551ebdfb62",
   "metadata": {},
   "outputs": [],
   "source": [
    "#Let's do the preprocessing like lemmatization and removing the stop words and punctuation marks\n",
    "import spacy\n",
    "nlp = spacy.load(\"en_core_web_sm\")\n",
    "\n",
    "def preprocess(text):\n",
    "    doc = nlp(text)\n",
    "    filtered_tokens = []\n",
    "    for token in doc:\n",
    "        if token.is_stop or token.is_punct:\n",
    "            continue\n",
    "        filtered_tokens.append(token.lemma_)\n",
    "    return \" \".join(filtered_tokens)\n",
    "    "
   ]
  },
  {
   "cell_type": "code",
   "execution_count": 23,
   "id": "7aff8ab5-4333-43b8-a296-8ba82875650b",
   "metadata": {},
   "outputs": [],
   "source": [
    "df['preprocessed_text'] = df['Text'].apply(preprocess)\n"
   ]
  },
  {
   "cell_type": "code",
   "execution_count": 24,
   "id": "49714e92-a2cc-4426-9bca-2989b0c1d0fb",
   "metadata": {},
   "outputs": [
    {
     "data": {
      "text/html": [
       "<div>\n",
       "<style scoped>\n",
       "    .dataframe tbody tr th:only-of-type {\n",
       "        vertical-align: middle;\n",
       "    }\n",
       "\n",
       "    .dataframe tbody tr th {\n",
       "        vertical-align: top;\n",
       "    }\n",
       "\n",
       "    .dataframe thead th {\n",
       "        text-align: right;\n",
       "    }\n",
       "</style>\n",
       "<table border=\"1\" class=\"dataframe\">\n",
       "  <thead>\n",
       "    <tr style=\"text-align: right;\">\n",
       "      <th></th>\n",
       "      <th>Text</th>\n",
       "      <th>label</th>\n",
       "      <th>category</th>\n",
       "      <th>preprocessed_text</th>\n",
       "    </tr>\n",
       "  </thead>\n",
       "  <tbody>\n",
       "    <tr>\n",
       "      <th>0</th>\n",
       "      <td>Urban Ladder Eisner Low Back Study-Office Comp...</td>\n",
       "      <td>Household</td>\n",
       "      <td>0</td>\n",
       "      <td>Urban Ladder Eisner low Study Office Computer ...</td>\n",
       "    </tr>\n",
       "    <tr>\n",
       "      <th>1</th>\n",
       "      <td>Contrast living Wooden Decorative Box,Painted ...</td>\n",
       "      <td>Household</td>\n",
       "      <td>0</td>\n",
       "      <td>contrast live Wooden Decorative Box Painted Bo...</td>\n",
       "    </tr>\n",
       "    <tr>\n",
       "      <th>2</th>\n",
       "      <td>IO Crest SY-PCI40010 PCI RAID Host Controller ...</td>\n",
       "      <td>Electronics</td>\n",
       "      <td>1</td>\n",
       "      <td>IO Crest SY PCI40010 PCI raid Host Controller ...</td>\n",
       "    </tr>\n",
       "    <tr>\n",
       "      <th>3</th>\n",
       "      <td>ISAKAA Baby Socks from Just Born to 8 Years- P...</td>\n",
       "      <td>Clothing &amp; Accessories</td>\n",
       "      <td>2</td>\n",
       "      <td>ISAKAA Baby Socks bear 8 Years- Pack 4 6 8 12 ...</td>\n",
       "    </tr>\n",
       "    <tr>\n",
       "      <th>4</th>\n",
       "      <td>Indira Designer Women's Art Mysore Silk Saree ...</td>\n",
       "      <td>Clothing &amp; Accessories</td>\n",
       "      <td>2</td>\n",
       "      <td>Indira Designer Women Art Mysore Silk Saree Bl...</td>\n",
       "    </tr>\n",
       "  </tbody>\n",
       "</table>\n",
       "</div>"
      ],
      "text/plain": [
       "                                                Text                   label  \\\n",
       "0  Urban Ladder Eisner Low Back Study-Office Comp...               Household   \n",
       "1  Contrast living Wooden Decorative Box,Painted ...               Household   \n",
       "2  IO Crest SY-PCI40010 PCI RAID Host Controller ...             Electronics   \n",
       "3  ISAKAA Baby Socks from Just Born to 8 Years- P...  Clothing & Accessories   \n",
       "4  Indira Designer Women's Art Mysore Silk Saree ...  Clothing & Accessories   \n",
       "\n",
       "   category                                  preprocessed_text  \n",
       "0         0  Urban Ladder Eisner low Study Office Computer ...  \n",
       "1         0  contrast live Wooden Decorative Box Painted Bo...  \n",
       "2         1  IO Crest SY PCI40010 PCI raid Host Controller ...  \n",
       "3         2  ISAKAA Baby Socks bear 8 Years- Pack 4 6 8 12 ...  \n",
       "4         2  Indira Designer Women Art Mysore Silk Saree Bl...  "
      ]
     },
     "execution_count": 24,
     "metadata": {},
     "output_type": "execute_result"
    }
   ],
   "source": [
    "df.head()"
   ]
  },
  {
   "cell_type": "code",
   "execution_count": 25,
   "id": "f2e2d38b-65fe-44e5-b4f3-8eed75846a6b",
   "metadata": {},
   "outputs": [],
   "source": [
    "from sklearn.model_selection import train_test_split\n",
    "X_train,X_test,y_train, y_test = train_test_split(df['preprocessed_text'], df['category'], test_size = 0.2,\n",
    "                                                  random_state = 22,\n",
    "                                                  stratify = df['category'])"
   ]
  },
  {
   "cell_type": "code",
   "execution_count": 26,
   "id": "b492c87e-eefa-4972-9d15-fe43a449de35",
   "metadata": {},
   "outputs": [
    {
     "data": {
      "text/plain": [
       "((19200,), (4800,))"
      ]
     },
     "execution_count": 26,
     "metadata": {},
     "output_type": "execute_result"
    }
   ],
   "source": [
    "X_train.shape , X_test.shape"
   ]
  },
  {
   "cell_type": "code",
   "execution_count": 27,
   "id": "1b0956c5-009d-495c-bee4-9c997c1d2f51",
   "metadata": {},
   "outputs": [
    {
     "data": {
      "text/plain": [
       "category\n",
       "2    4800\n",
       "0    4800\n",
       "1    4800\n",
       "3    4800\n",
       "Name: count, dtype: int64"
      ]
     },
     "execution_count": 27,
     "metadata": {},
     "output_type": "execute_result"
    }
   ],
   "source": [
    "y_train.value_counts()"
   ]
  },
  {
   "cell_type": "markdown",
   "id": "86bf6123-5c66-42c9-9e93-a0ba36b4bfd9",
   "metadata": {},
   "source": [
    "y_test.value_counts()"
   ]
  },
  {
   "cell_type": "markdown",
   "id": "9bec039b-0418-4ff3-a168-09c6e4dd49a1",
   "metadata": {},
   "source": [
    "We see that all the classes have been divided equally in both the training and test datasets"
   ]
  },
  {
   "cell_type": "code",
   "execution_count": 29,
   "id": "920ef341-9181-465d-979e-edfb767ba2cb",
   "metadata": {},
   "outputs": [],
   "source": [
    "# Now let's build a model\n",
    "# Importing the required libraries\n",
    "from sklearn.neighbors import KNeighborsClassifier\n",
    "from sklearn.pipeline import Pipeline\n",
    "from sklearn.metrics import classification_report\n",
    "from sklearn.naive_bayes import MultinomialNB\n",
    "from sklearn.ensemble import RandomForestClassifier"
   ]
  },
  {
   "cell_type": "code",
   "execution_count": 30,
   "id": "63c36cc8-061d-4f06-8874-20c90f2207e3",
   "metadata": {},
   "outputs": [],
   "source": [
    "model_nb = Pipeline([\n",
    "    ('tf_idf_vectorizer',TfidfVectorizer()),\n",
    "    ('nb',MultinomialNB())\n",
    "])\n",
    "\n",
    "model_nb.fit(X_train, y_train)\n",
    "y_pred_nb = model_nb.predict(X_test)"
   ]
  },
  {
   "cell_type": "code",
   "execution_count": 31,
   "id": "00e6bec4-6f57-404b-be73-9ef9d3da356c",
   "metadata": {},
   "outputs": [
    {
     "name": "stdout",
     "output_type": "stream",
     "text": [
      "              precision    recall  f1-score   support\n",
      "\n",
      "           0       0.93      0.97      0.95      1200\n",
      "           1       0.96      0.97      0.97      1200\n",
      "           2       0.98      0.99      0.98      1200\n",
      "           3       0.99      0.94      0.96      1200\n",
      "\n",
      "    accuracy                           0.96      4800\n",
      "   macro avg       0.97      0.96      0.96      4800\n",
      "weighted avg       0.97      0.96      0.96      4800\n",
      "\n"
     ]
    }
   ],
   "source": [
    "print(classification_report(y_test, y_pred_nb))"
   ]
  },
  {
   "cell_type": "code",
   "execution_count": 32,
   "id": "6bbe2895-614e-4798-972d-9510faafe0a5",
   "metadata": {},
   "outputs": [],
   "source": [
    "model_rf = Pipeline([\n",
    "    ('tf_idf_vectorizer',TfidfVectorizer()),\n",
    "    ('rf',RandomForestClassifier(n_estimators=50))\n",
    "])\n",
    "\n",
    "model_rf.fit(X_train, y_train)\n",
    "y_pred_rf = model_rf.predict(X_test)"
   ]
  },
  {
   "cell_type": "code",
   "execution_count": 33,
   "id": "2ef20c71-e791-44c6-9160-5adce444532f",
   "metadata": {},
   "outputs": [
    {
     "name": "stdout",
     "output_type": "stream",
     "text": [
      "              precision    recall  f1-score   support\n",
      "\n",
      "           0       0.96      0.97      0.96      1200\n",
      "           1       0.98      0.97      0.97      1200\n",
      "           2       0.98      0.98      0.98      1200\n",
      "           3       0.98      0.97      0.97      1200\n",
      "\n",
      "    accuracy                           0.97      4800\n",
      "   macro avg       0.97      0.97      0.97      4800\n",
      "weighted avg       0.97      0.97      0.97      4800\n",
      "\n"
     ]
    }
   ],
   "source": [
    "print(classification_report(y_test, y_pred_rf))"
   ]
  },
  {
   "cell_type": "code",
   "execution_count": 34,
   "id": "fca4bbaf-751a-4cfe-a4f0-de2cc84fad19",
   "metadata": {},
   "outputs": [],
   "source": [
    "model_knn = Pipeline([\n",
    "    ('tf_idf_vectorizer',TfidfVectorizer()),\n",
    "    ('KNN',KNeighborsClassifier())\n",
    "])\n",
    "\n",
    "model_knn.fit(X_train, y_train)\n",
    "y_pred_knn = model_knn.predict(X_test)"
   ]
  },
  {
   "cell_type": "code",
   "execution_count": 35,
   "id": "095d3008-926f-40fd-aca2-b073d14e244e",
   "metadata": {},
   "outputs": [
    {
     "name": "stdout",
     "output_type": "stream",
     "text": [
      "              precision    recall  f1-score   support\n",
      "\n",
      "           0       0.93      0.96      0.95      1200\n",
      "           1       0.96      0.96      0.96      1200\n",
      "           2       0.98      0.97      0.97      1200\n",
      "           3       0.97      0.94      0.96      1200\n",
      "\n",
      "    accuracy                           0.96      4800\n",
      "   macro avg       0.96      0.96      0.96      4800\n",
      "weighted avg       0.96      0.96      0.96      4800\n",
      "\n"
     ]
    }
   ],
   "source": [
    "print(classification_report(y_test, y_pred_knn))"
   ]
  },
  {
   "cell_type": "code",
   "execution_count": 36,
   "id": "ee67e1ce-6c07-4c17-b163-720db35917e1",
   "metadata": {},
   "outputs": [
    {
     "data": {
      "text/plain": [
       "2231     Lenovo 310 20iap AIO 19.5 inch desktop cel J33...\n",
       "4113     HeadTurners Milky White Cricket Dress White Cr...\n",
       "12199    DearJoy Cotton toddler Training Seat Baby Safe...\n",
       "15020    White Willow Memory Foam Pillow 21.5\"x13.5\"x4 ...\n",
       "21084                Concise   General    Knowledge   2019\n",
       "Name: preprocessed_text, dtype: object"
      ]
     },
     "execution_count": 36,
     "metadata": {},
     "output_type": "execute_result"
    }
   ],
   "source": [
    "# Let's check some predictions\n",
    "X_test[0:5]"
   ]
  },
  {
   "cell_type": "code",
   "execution_count": 38,
   "id": "824ff759-e12b-4d41-8073-67e3a4339dec",
   "metadata": {},
   "outputs": [
    {
     "data": {
      "text/plain": [
       "'Lenovo 310 20iap AIO 19.5 inch desktop cel J3355/4GB/1TB Windows 10 Home Integrated Graphics Black Size name:2017 Model    Ready box plug play||Single cord PC day day computing||light weight modern design weight 3kg*||integrated web cam Mic Speakers WiFi Bluetooth||19.5 Screen photo frame stand design||7th Generation processor integrated Graphics round performance'"
      ]
     },
     "execution_count": 38,
     "metadata": {},
     "output_type": "execute_result"
    }
   ],
   "source": [
    "X_test.loc[2231]"
   ]
  },
  {
   "cell_type": "code",
   "execution_count": 39,
   "id": "c916049a-8bd4-4c7c-8ab1-221691c2fdb9",
   "metadata": {},
   "outputs": [
    {
     "data": {
      "text/plain": [
       "2231     1\n",
       "4113     2\n",
       "12199    0\n",
       "15020    0\n",
       "21084    3\n",
       "Name: category, dtype: int64"
      ]
     },
     "execution_count": 39,
     "metadata": {},
     "output_type": "execute_result"
    }
   ],
   "source": [
    "y_test[0:5]"
   ]
  },
  {
   "cell_type": "code",
   "execution_count": 40,
   "id": "41da5985-a45b-48c2-a569-2cc9b9f94962",
   "metadata": {},
   "outputs": [
    {
     "data": {
      "text/plain": [
       "array([1, 2, 0, 0, 3], dtype=int64)"
      ]
     },
     "execution_count": 40,
     "metadata": {},
     "output_type": "execute_result"
    }
   ],
   "source": [
    "y_pred_rf[0:5]"
   ]
  },
  {
   "cell_type": "code",
   "execution_count": 41,
   "id": "68a46eec-b5c1-48f9-9a37-9f06621dd77c",
   "metadata": {},
   "outputs": [
    {
     "data": {
      "text/plain": [
       "array([1, 2, 0, 0, 3], dtype=int64)"
      ]
     },
     "execution_count": 41,
     "metadata": {},
     "output_type": "execute_result"
    }
   ],
   "source": [
    "y_pred_nb[0:5]"
   ]
  },
  {
   "cell_type": "code",
   "execution_count": 42,
   "id": "d8f54630-91ee-44e6-ab2d-5b594a806082",
   "metadata": {},
   "outputs": [
    {
     "data": {
      "text/plain": [
       "array([1, 3, 0, 0, 3], dtype=int64)"
      ]
     },
     "execution_count": 42,
     "metadata": {},
     "output_type": "execute_result"
    }
   ],
   "source": [
    "y_pred_knn[0:5]"
   ]
  },
  {
   "cell_type": "code",
   "execution_count": 43,
   "id": "50591083-8b5c-40d1-9e3b-7d67d177c80f",
   "metadata": {},
   "outputs": [
    {
     "data": {
      "text/plain": [
       "'HeadTurners Milky White Cricket Dress White Cricket T Shirt Trousers Combo Uniform Dress men Boys kid'"
      ]
     },
     "execution_count": 43,
     "metadata": {},
     "output_type": "execute_result"
    }
   ],
   "source": [
    "X_test.loc[4113]"
   ]
  },
  {
   "cell_type": "code",
   "execution_count": 47,
   "id": "86265df8-4916-46bc-8cb5-eab795b89a29",
   "metadata": {},
   "outputs": [
    {
     "data": {
      "text/html": [
       "<div>\n",
       "<style scoped>\n",
       "    .dataframe tbody tr th:only-of-type {\n",
       "        vertical-align: middle;\n",
       "    }\n",
       "\n",
       "    .dataframe tbody tr th {\n",
       "        vertical-align: top;\n",
       "    }\n",
       "\n",
       "    .dataframe thead th {\n",
       "        text-align: right;\n",
       "    }\n",
       "</style>\n",
       "<table border=\"1\" class=\"dataframe\">\n",
       "  <thead>\n",
       "    <tr style=\"text-align: right;\">\n",
       "      <th></th>\n",
       "      <th>Text</th>\n",
       "      <th>label</th>\n",
       "      <th>category</th>\n",
       "      <th>preprocessed_text</th>\n",
       "    </tr>\n",
       "  </thead>\n",
       "  <tbody>\n",
       "    <tr>\n",
       "      <th>0</th>\n",
       "      <td>Urban Ladder Eisner Low Back Study-Office Comp...</td>\n",
       "      <td>Household</td>\n",
       "      <td>0</td>\n",
       "      <td>Urban Ladder Eisner low Study Office Computer ...</td>\n",
       "    </tr>\n",
       "    <tr>\n",
       "      <th>1</th>\n",
       "      <td>Contrast living Wooden Decorative Box,Painted ...</td>\n",
       "      <td>Household</td>\n",
       "      <td>0</td>\n",
       "      <td>contrast live Wooden Decorative Box Painted Bo...</td>\n",
       "    </tr>\n",
       "    <tr>\n",
       "      <th>2</th>\n",
       "      <td>IO Crest SY-PCI40010 PCI RAID Host Controller ...</td>\n",
       "      <td>Electronics</td>\n",
       "      <td>1</td>\n",
       "      <td>IO Crest SY PCI40010 PCI raid Host Controller ...</td>\n",
       "    </tr>\n",
       "    <tr>\n",
       "      <th>3</th>\n",
       "      <td>ISAKAA Baby Socks from Just Born to 8 Years- P...</td>\n",
       "      <td>Clothing &amp; Accessories</td>\n",
       "      <td>2</td>\n",
       "      <td>ISAKAA Baby Socks bear 8 Years- Pack 4 6 8 12 ...</td>\n",
       "    </tr>\n",
       "    <tr>\n",
       "      <th>4</th>\n",
       "      <td>Indira Designer Women's Art Mysore Silk Saree ...</td>\n",
       "      <td>Clothing &amp; Accessories</td>\n",
       "      <td>2</td>\n",
       "      <td>Indira Designer Women Art Mysore Silk Saree Bl...</td>\n",
       "    </tr>\n",
       "    <tr>\n",
       "      <th>5</th>\n",
       "      <td>Selfie: How We Became So Self-Obsessed and Wha...</td>\n",
       "      <td>Books</td>\n",
       "      <td>3</td>\n",
       "      <td>Selfie self obsessed</td>\n",
       "    </tr>\n",
       "    <tr>\n",
       "      <th>6</th>\n",
       "      <td>Quantum QHM8810 Keyboard with Mouse (Black) Ul...</td>\n",
       "      <td>Electronics</td>\n",
       "      <td>1</td>\n",
       "      <td>Quantum QHM8810 Keyboard Mouse Black Ultra sli...</td>\n",
       "    </tr>\n",
       "    <tr>\n",
       "      <th>7</th>\n",
       "      <td>Y&amp;S Uv Protected Non Polarized Wayfarer Boy's ...</td>\n",
       "      <td>Clothing &amp; Accessories</td>\n",
       "      <td>2</td>\n",
       "      <td>Y&amp;S Uv Protected Non polarized Wayfarer Boy Gi...</td>\n",
       "    </tr>\n",
       "    <tr>\n",
       "      <th>8</th>\n",
       "      <td>HP external USB DVD Drive DVDRW DVD-ROM A2U56A...</td>\n",
       "      <td>Electronics</td>\n",
       "      <td>1</td>\n",
       "      <td>hp external usb DVD Drive DVDRW DVD ROM A2U56A...</td>\n",
       "    </tr>\n",
       "    <tr>\n",
       "      <th>9</th>\n",
       "      <td>Fujifilm Instax Mini Monochrome Film (10 Sheet...</td>\n",
       "      <td>Books</td>\n",
       "      <td>3</td>\n",
       "      <td>fujifilm Instax Mini Monochrome Film 10 sheet ...</td>\n",
       "    </tr>\n",
       "  </tbody>\n",
       "</table>\n",
       "</div>"
      ],
      "text/plain": [
       "                                                Text                   label  \\\n",
       "0  Urban Ladder Eisner Low Back Study-Office Comp...               Household   \n",
       "1  Contrast living Wooden Decorative Box,Painted ...               Household   \n",
       "2  IO Crest SY-PCI40010 PCI RAID Host Controller ...             Electronics   \n",
       "3  ISAKAA Baby Socks from Just Born to 8 Years- P...  Clothing & Accessories   \n",
       "4  Indira Designer Women's Art Mysore Silk Saree ...  Clothing & Accessories   \n",
       "5  Selfie: How We Became So Self-Obsessed and Wha...                   Books   \n",
       "6  Quantum QHM8810 Keyboard with Mouse (Black) Ul...             Electronics   \n",
       "7  Y&S Uv Protected Non Polarized Wayfarer Boy's ...  Clothing & Accessories   \n",
       "8  HP external USB DVD Drive DVDRW DVD-ROM A2U56A...             Electronics   \n",
       "9  Fujifilm Instax Mini Monochrome Film (10 Sheet...                   Books   \n",
       "\n",
       "   category                                  preprocessed_text  \n",
       "0         0  Urban Ladder Eisner low Study Office Computer ...  \n",
       "1         0  contrast live Wooden Decorative Box Painted Bo...  \n",
       "2         1  IO Crest SY PCI40010 PCI raid Host Controller ...  \n",
       "3         2  ISAKAA Baby Socks bear 8 Years- Pack 4 6 8 12 ...  \n",
       "4         2  Indira Designer Women Art Mysore Silk Saree Bl...  \n",
       "5         3                               Selfie self obsessed  \n",
       "6         1  Quantum QHM8810 Keyboard Mouse Black Ultra sli...  \n",
       "7         2  Y&S Uv Protected Non polarized Wayfarer Boy Gi...  \n",
       "8         1  hp external usb DVD Drive DVDRW DVD ROM A2U56A...  \n",
       "9         3  fujifilm Instax Mini Monochrome Film 10 sheet ...  "
      ]
     },
     "execution_count": 47,
     "metadata": {},
     "output_type": "execute_result"
    }
   ],
   "source": [
    "df.head(10)"
   ]
  }
 ],
 "metadata": {
  "kernelspec": {
   "display_name": "Python 3 (ipykernel)",
   "language": "python",
   "name": "python3"
  },
  "language_info": {
   "codemirror_mode": {
    "name": "ipython",
    "version": 3
   },
   "file_extension": ".py",
   "mimetype": "text/x-python",
   "name": "python",
   "nbconvert_exporter": "python",
   "pygments_lexer": "ipython3",
   "version": "3.11.4"
  }
 },
 "nbformat": 4,
 "nbformat_minor": 5
}
