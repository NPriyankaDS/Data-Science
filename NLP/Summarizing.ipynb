{
 "cells": [
  {
   "cell_type": "code",
   "execution_count": 9,
   "id": "4a7a2c41-af8d-4252-8db5-3f21cb3bbe7d",
   "metadata": {},
   "outputs": [],
   "source": [
    "import spacy"
   ]
  },
  {
   "cell_type": "code",
   "execution_count": 10,
   "id": "b01037e8-cf16-438b-b83b-8ca49f7877fd",
   "metadata": {},
   "outputs": [],
   "source": [
    "nlp = spacy.load(\"en_core_web_sm\")"
   ]
  },
  {
   "cell_type": "code",
   "execution_count": 6,
   "id": "16e35859-dd8b-41ea-9a6e-6816f554cb33",
   "metadata": {},
   "outputs": [],
   "source": [
    "text=\"Machine learning (ML) is the scientific study of algorithms and statistical models that computer systems use to progressively improve their performance on a specific task. Machine learning algorithms build a mathematical model of sample data, known as “training data”, in order to make predictions or decisions without being explicitly programmed to perform the task. Machine learning algorithms are used in the applications of email filtering, detection of network intruders, and computer vision, where it is infeasible to develop an algorithm of specific instructions for performing the task. Machine learning is closely related to computational statistics, which focuses on making predictions using computers. The study of mathematical optimization delivers methods, theory and application domains to the field of machine learning. Data mining is a field of study within machine learning and focuses on exploratory data analysis through unsupervised learning. In its application across business problems, machine learning is also referred to as predictive analytics.\""
   ]
  },
  {
   "cell_type": "code",
   "execution_count": 11,
   "id": "f0535b87-95d7-467b-b53e-c154c97225c4",
   "metadata": {},
   "outputs": [],
   "source": [
    "doc = nlp(text)"
   ]
  },
  {
   "cell_type": "code",
   "execution_count": 23,
   "id": "02d5f1f0-d500-4511-a330-85563d0cf003",
   "metadata": {},
   "outputs": [
    {
     "data": {
      "text/plain": [
       "['_',\n",
       " '__bytes__',\n",
       " '__class__',\n",
       " '__delattr__',\n",
       " '__dir__',\n",
       " '__doc__',\n",
       " '__eq__',\n",
       " '__format__',\n",
       " '__ge__',\n",
       " '__getattribute__',\n",
       " '__getitem__',\n",
       " '__getstate__',\n",
       " '__gt__',\n",
       " '__hash__',\n",
       " '__init__',\n",
       " '__init_subclass__',\n",
       " '__iter__',\n",
       " '__le__',\n",
       " '__len__',\n",
       " '__lt__',\n",
       " '__ne__',\n",
       " '__new__',\n",
       " '__pyx_vtable__',\n",
       " '__reduce__',\n",
       " '__reduce_ex__',\n",
       " '__repr__',\n",
       " '__setattr__',\n",
       " '__setstate__',\n",
       " '__sizeof__',\n",
       " '__str__',\n",
       " '__subclasshook__',\n",
       " '__unicode__',\n",
       " '_bulk_merge',\n",
       " '_context',\n",
       " '_get_array_attrs',\n",
       " '_realloc',\n",
       " '_vector',\n",
       " '_vector_norm',\n",
       " 'cats',\n",
       " 'char_span',\n",
       " 'copy',\n",
       " 'count_by',\n",
       " 'doc',\n",
       " 'ents',\n",
       " 'extend_tensor',\n",
       " 'from_array',\n",
       " 'from_bytes',\n",
       " 'from_dict',\n",
       " 'from_disk',\n",
       " 'from_docs',\n",
       " 'from_json',\n",
       " 'get_extension',\n",
       " 'get_lca_matrix',\n",
       " 'has_annotation',\n",
       " 'has_extension',\n",
       " 'has_unknown_spaces',\n",
       " 'has_vector',\n",
       " 'is_nered',\n",
       " 'is_parsed',\n",
       " 'is_sentenced',\n",
       " 'is_tagged',\n",
       " 'lang',\n",
       " 'lang_',\n",
       " 'mem',\n",
       " 'noun_chunks',\n",
       " 'noun_chunks_iterator',\n",
       " 'remove_extension',\n",
       " 'retokenize',\n",
       " 'sentiment',\n",
       " 'sents',\n",
       " 'set_ents',\n",
       " 'set_extension',\n",
       " 'similarity',\n",
       " 'spans',\n",
       " 'tensor',\n",
       " 'text',\n",
       " 'text_with_ws',\n",
       " 'to_array',\n",
       " 'to_bytes',\n",
       " 'to_dict',\n",
       " 'to_disk',\n",
       " 'to_json',\n",
       " 'to_utf8_array',\n",
       " 'user_data',\n",
       " 'user_hooks',\n",
       " 'user_span_hooks',\n",
       " 'user_token_hooks',\n",
       " 'vector',\n",
       " 'vector_norm',\n",
       " 'vocab']"
      ]
     },
     "execution_count": 23,
     "metadata": {},
     "output_type": "execute_result"
    }
   ],
   "source": [
    "dir(doc)"
   ]
  },
  {
   "cell_type": "code",
   "execution_count": 24,
   "id": "f325ed0a-f414-42f4-a879-d17e182b95d7",
   "metadata": {},
   "outputs": [
    {
     "data": {
      "text/plain": [
       "<spacy.pipeline.sentencizer.Sentencizer at 0x2145a8ba710>"
      ]
     },
     "execution_count": 24,
     "metadata": {},
     "output_type": "execute_result"
    }
   ],
   "source": [
    "nlp.add_pipe('sentencizer')"
   ]
  },
  {
   "cell_type": "code",
   "execution_count": 26,
   "id": "468e176f-3692-4b60-983a-f54c03d161a3",
   "metadata": {},
   "outputs": [
    {
     "data": {
      "text/plain": [
       "<generator at 0x214597172e0>"
      ]
     },
     "execution_count": 26,
     "metadata": {},
     "output_type": "execute_result"
    }
   ],
   "source": [
    "doc.sents"
   ]
  },
  {
   "cell_type": "code",
   "execution_count": 27,
   "id": "fd0b5cd4-6cca-4f1c-b047-e8ae6ef0a749",
   "metadata": {},
   "outputs": [
    {
     "data": {
      "text/plain": [
       "7"
      ]
     },
     "execution_count": 27,
     "metadata": {},
     "output_type": "execute_result"
    }
   ],
   "source": [
    "len(list(doc.sents))"
   ]
  },
  {
   "cell_type": "code",
   "execution_count": 29,
   "id": "9614feff-c373-4e7b-9a53-045bd57e280d",
   "metadata": {},
   "outputs": [
    {
     "data": {
      "text/plain": [
       "[Machine learning (ML) is the scientific study of algorithms and statistical models that computer systems use to progressively improve their performance on a specific task.,\n",
       " Machine learning algorithms build a mathematical model of sample data, known as “training data”, in order to make predictions or decisions without being explicitly programmed to perform the task.,\n",
       " Machine learning algorithms are used in the applications of email filtering, detection of network intruders, and computer vision, where it is infeasible to develop an algorithm of specific instructions for performing the task.,\n",
       " Machine learning is closely related to computational statistics, which focuses on making predictions using computers.,\n",
       " The study of mathematical optimization delivers methods, theory and application domains to the field of machine learning.,\n",
       " Data mining is a field of study within machine learning and focuses on exploratory data analysis through unsupervised learning.,\n",
       " In its application across business problems, machine learning is also referred to as predictive analytics.]"
      ]
     },
     "execution_count": 29,
     "metadata": {},
     "output_type": "execute_result"
    }
   ],
   "source": [
    "list(doc.sents)"
   ]
  },
  {
   "cell_type": "code",
   "execution_count": 30,
   "id": "b3c9f519-6ce7-4ae7-8590-ef94b1204ab3",
   "metadata": {},
   "outputs": [
    {
     "data": {
      "text/plain": [
       "Machine learning (ML) is the scientific study of algorithms and statistical models that computer systems use to progressively improve their performance on a specific task."
      ]
     },
     "execution_count": 30,
     "metadata": {},
     "output_type": "execute_result"
    }
   ],
   "source": [
    "list(doc.sents)[0]"
   ]
  },
  {
   "cell_type": "code",
   "execution_count": 31,
   "id": "d6aaad6c-bb5c-4905-ba8a-4ab55fcdb9fd",
   "metadata": {},
   "outputs": [],
   "source": [
    "from spacy.lang.en.stop_words import STOP_WORDS\n",
    "from string import punctuation\n",
    "from collections import Counter\n",
    "from heapq import nlargest"
   ]
  },
  {
   "cell_type": "code",
   "execution_count": 33,
   "id": "54624e25-4cd5-4eb6-9f6f-0ba9cc6116e8",
   "metadata": {},
   "outputs": [],
   "source": [
    "keywords = []\n",
    "stopwords = list(STOP_WORDS)\n",
    "pos_tag = ['PROPN','ADJ','NOUN','VERB']\n",
    "for token in doc:\n",
    "    if(token.text in stopwords or token.text in punctuation):\n",
    "        continue\n",
    "    if(token.pos_ in pos_tag):\n",
    "        keywords.append(token.text)"
   ]
  },
  {
   "cell_type": "code",
   "execution_count": 34,
   "id": "f5484119-44b6-4299-9607-a3739d0fa81c",
   "metadata": {},
   "outputs": [
    {
     "data": {
      "text/plain": [
       "['Machine',\n",
       " 'learning',\n",
       " 'ML',\n",
       " 'scientific',\n",
       " 'study',\n",
       " 'algorithms',\n",
       " 'statistical',\n",
       " 'models',\n",
       " 'computer',\n",
       " 'systems',\n",
       " 'use',\n",
       " 'improve',\n",
       " 'performance',\n",
       " 'specific',\n",
       " 'task',\n",
       " 'Machine',\n",
       " 'learning',\n",
       " 'algorithms',\n",
       " 'build',\n",
       " 'mathematical',\n",
       " 'model',\n",
       " 'sample',\n",
       " 'data',\n",
       " 'known',\n",
       " 'training',\n",
       " 'data',\n",
       " 'order',\n",
       " 'predictions',\n",
       " 'decisions',\n",
       " 'programmed',\n",
       " 'perform',\n",
       " 'task',\n",
       " 'Machine',\n",
       " 'learning',\n",
       " 'algorithms',\n",
       " 'applications',\n",
       " 'email',\n",
       " 'filtering',\n",
       " 'detection',\n",
       " 'network',\n",
       " 'intruders',\n",
       " 'computer',\n",
       " 'vision',\n",
       " 'infeasible',\n",
       " 'develop',\n",
       " 'algorithm',\n",
       " 'specific',\n",
       " 'instructions',\n",
       " 'performing',\n",
       " 'task',\n",
       " 'Machine',\n",
       " 'learning',\n",
       " 'related',\n",
       " 'computational',\n",
       " 'statistics',\n",
       " 'focuses',\n",
       " 'making',\n",
       " 'predictions',\n",
       " 'computers',\n",
       " 'study',\n",
       " 'mathematical',\n",
       " 'optimization',\n",
       " 'delivers',\n",
       " 'methods',\n",
       " 'theory',\n",
       " 'application',\n",
       " 'domains',\n",
       " 'field',\n",
       " 'machine',\n",
       " 'learning',\n",
       " 'Data',\n",
       " 'mining',\n",
       " 'field',\n",
       " 'study',\n",
       " 'machine',\n",
       " 'learning',\n",
       " 'focuses',\n",
       " 'exploratory',\n",
       " 'data',\n",
       " 'analysis',\n",
       " 'unsupervised',\n",
       " 'learning',\n",
       " 'application',\n",
       " 'business',\n",
       " 'problems',\n",
       " 'machine',\n",
       " 'learning',\n",
       " 'referred',\n",
       " 'predictive',\n",
       " 'analytics']"
      ]
     },
     "execution_count": 34,
     "metadata": {},
     "output_type": "execute_result"
    }
   ],
   "source": [
    "keywords"
   ]
  },
  {
   "cell_type": "code",
   "execution_count": 70,
   "id": "942726b8-0e67-4354-9bf2-e1343330b8da",
   "metadata": {},
   "outputs": [
    {
     "data": {
      "text/plain": [
       "[('learning', 8), ('Machine', 4), ('study', 3), ('algorithms', 3), ('task', 3)]"
      ]
     },
     "execution_count": 70,
     "metadata": {},
     "output_type": "execute_result"
    }
   ],
   "source": [
    "freq_word = Counter(keywords)\n",
    "freq_word.most_common(5)"
   ]
  },
  {
   "cell_type": "code",
   "execution_count": 71,
   "id": "b0f5f523-771c-48e8-a43a-8e7449d455f3",
   "metadata": {},
   "outputs": [
    {
     "data": {
      "text/plain": [
       "[('learning', 1.0),\n",
       " ('Machine', 0.5),\n",
       " ('study', 0.375),\n",
       " ('algorithms', 0.375),\n",
       " ('task', 0.375)]"
      ]
     },
     "execution_count": 71,
     "metadata": {},
     "output_type": "execute_result"
    }
   ],
   "source": [
    "max_freq = Counter(keywords).most_common(1)[0][1]\n",
    "for word in freq_word.keys():\n",
    "    freq_word[word] = (freq_word[word]/max_freq)\n",
    "    \n",
    "freq_word.most_common(5)"
   ]
  },
  {
   "cell_type": "code",
   "execution_count": 72,
   "id": "3083a400-cc76-4123-b7c2-af28d46bf127",
   "metadata": {},
   "outputs": [
    {
     "name": "stdout",
     "output_type": "stream",
     "text": [
      "{Machine learning (ML) is the scientific study of algorithms and statistical models that computer systems use to progressively improve their performance on a specific task.: 4.125, Machine learning algorithms build a mathematical model of sample data, known as “training data”, in order to make predictions or decisions without being explicitly programmed to perform the task.: 4.625, Machine learning algorithms are used in the applications of email filtering, detection of network intruders, and computer vision, where it is infeasible to develop an algorithm of specific instructions for performing the task.: 4.25, Machine learning is closely related to computational statistics, which focuses on making predictions using computers.: 2.625, The study of mathematical optimization delivers methods, theory and application domains to the field of machine learning.: 3.125, Data mining is a field of study within machine learning and focuses on exploratory data analysis through unsupervised learning.: 4.25, In its application across business problems, machine learning is also referred to as predictive analytics.: 2.25}\n"
     ]
    }
   ],
   "source": [
    "sent_strength = {}\n",
    "for sent in doc.sents:\n",
    "    for word in sent:\n",
    "        if word.text in freq_word.keys():\n",
    "            if sent in sent_strength.keys():\n",
    "                sent_strength[sent] += freq_word[word.text]\n",
    "            else:\n",
    "                sent_strength[sent] = freq_word[word.text]\n",
    "print(sent_strength)"
   ]
  },
  {
   "cell_type": "code",
   "execution_count": 73,
   "id": "8f8b6094-6b40-4f30-96b9-152deb96ddd1",
   "metadata": {},
   "outputs": [
    {
     "name": "stdout",
     "output_type": "stream",
     "text": [
      "[Machine learning algorithms build a mathematical model of sample data, known as “training data”, in order to make predictions or decisions without being explicitly programmed to perform the task., Machine learning algorithms are used in the applications of email filtering, detection of network intruders, and computer vision, where it is infeasible to develop an algorithm of specific instructions for performing the task., Data mining is a field of study within machine learning and focuses on exploratory data analysis through unsupervised learning., Machine learning (ML) is the scientific study of algorithms and statistical models that computer systems use to progressively improve their performance on a specific task.]\n"
     ]
    }
   ],
   "source": [
    "#summarizing the paragraph\n",
    "summarized_sent = nlargest(4,sent_strength,key = sent_strength.get)\n",
    "print(summarized_sent)"
   ]
  },
  {
   "cell_type": "code",
   "execution_count": 75,
   "id": "83e6b4a9-91b4-47af-b86c-8d5dce27835e",
   "metadata": {},
   "outputs": [
    {
     "data": {
      "text/plain": [
       "spacy.tokens.span.Span"
      ]
     },
     "execution_count": 75,
     "metadata": {},
     "output_type": "execute_result"
    }
   ],
   "source": [
    "type(summarized_sent[0])"
   ]
  },
  {
   "cell_type": "markdown",
   "id": "5ab81539-c404-4286-8deb-cc96404439d4",
   "metadata": {},
   "source": [
    "Converting the span type into str type"
   ]
  },
  {
   "cell_type": "code",
   "execution_count": 76,
   "id": "f3c504dc-2dbf-4cf6-86b0-c4ffde793664",
   "metadata": {},
   "outputs": [
    {
     "name": "stdout",
     "output_type": "stream",
     "text": [
      "Machine learning algorithms build a mathematical model of sample data, known as “training data”, in order to make predictions or decisions without being explicitly programmed to perform the task. Machine learning algorithms are used in the applications of email filtering, detection of network intruders, and computer vision, where it is infeasible to develop an algorithm of specific instructions for performing the task. Data mining is a field of study within machine learning and focuses on exploratory data analysis through unsupervised learning. Machine learning (ML) is the scientific study of algorithms and statistical models that computer systems use to progressively improve their performance on a specific task.\n"
     ]
    }
   ],
   "source": [
    "final = [w.text for w in summarized_sent]\n",
    "summary = \" \".join(final)\n",
    "print(summary)"
   ]
  },
  {
   "cell_type": "code",
   "execution_count": 77,
   "id": "7a6a9221-0ccb-4036-87d8-92ecb47d1e0d",
   "metadata": {},
   "outputs": [
    {
     "data": {
      "text/plain": [
       "str"
      ]
     },
     "execution_count": 77,
     "metadata": {},
     "output_type": "execute_result"
    }
   ],
   "source": [
    "type(summary)"
   ]
  },
  {
   "cell_type": "code",
   "execution_count": 22,
   "id": "c4d2de75-3774-475c-87e8-eb2d3b4a0d6a",
   "metadata": {},
   "outputs": [
    {
     "name": "stdout",
     "output_type": "stream",
     "text": [
      "Machine  |  NOUN\n",
      "learning  |  NOUN\n",
      "(  |  PUNCT\n",
      "ML  |  PROPN\n",
      ")  |  PUNCT\n",
      "is  |  AUX\n",
      "the  |  DET\n",
      "scientific  |  ADJ\n",
      "study  |  NOUN\n",
      "of  |  ADP\n",
      "algorithms  |  NOUN\n",
      "and  |  CCONJ\n",
      "statistical  |  ADJ\n",
      "models  |  NOUN\n",
      "that  |  PRON\n",
      "computer  |  NOUN\n",
      "systems  |  NOUN\n",
      "use  |  VERB\n",
      "to  |  PART\n",
      "progressively  |  ADV\n",
      "improve  |  VERB\n",
      "their  |  PRON\n",
      "performance  |  NOUN\n",
      "on  |  ADP\n",
      "a  |  DET\n",
      "specific  |  ADJ\n",
      "task  |  NOUN\n",
      ".  |  PUNCT\n",
      "Machine  |  NOUN\n",
      "learning  |  VERB\n",
      "algorithms  |  NOUN\n",
      "build  |  VERB\n",
      "a  |  DET\n",
      "mathematical  |  ADJ\n",
      "model  |  NOUN\n",
      "of  |  ADP\n",
      "sample  |  NOUN\n",
      "data  |  NOUN\n",
      ",  |  PUNCT\n",
      "known  |  VERB\n",
      "as  |  ADP\n",
      "“  |  PUNCT\n",
      "training  |  NOUN\n",
      "data  |  NOUN\n",
      "”  |  PUNCT\n",
      ",  |  PUNCT\n",
      "in  |  ADP\n",
      "order  |  NOUN\n",
      "to  |  PART\n",
      "make  |  VERB\n",
      "predictions  |  NOUN\n",
      "or  |  CCONJ\n",
      "decisions  |  NOUN\n",
      "without  |  ADP\n",
      "being  |  AUX\n",
      "explicitly  |  ADV\n",
      "programmed  |  VERB\n",
      "to  |  PART\n",
      "perform  |  VERB\n",
      "the  |  DET\n",
      "task  |  NOUN\n",
      ".  |  PUNCT\n",
      "Machine  |  NOUN\n",
      "learning  |  NOUN\n",
      "algorithms  |  NOUN\n",
      "are  |  AUX\n",
      "used  |  VERB\n",
      "in  |  ADP\n",
      "the  |  DET\n",
      "applications  |  NOUN\n",
      "of  |  ADP\n",
      "email  |  NOUN\n",
      "filtering  |  NOUN\n",
      ",  |  PUNCT\n",
      "detection  |  NOUN\n",
      "of  |  ADP\n",
      "network  |  NOUN\n",
      "intruders  |  NOUN\n",
      ",  |  PUNCT\n",
      "and  |  CCONJ\n",
      "computer  |  NOUN\n",
      "vision  |  NOUN\n",
      ",  |  PUNCT\n",
      "where  |  SCONJ\n",
      "it  |  PRON\n",
      "is  |  AUX\n",
      "infeasible  |  ADJ\n",
      "to  |  PART\n",
      "develop  |  VERB\n",
      "an  |  DET\n",
      "algorithm  |  PROPN\n",
      "of  |  ADP\n",
      "specific  |  ADJ\n",
      "instructions  |  NOUN\n",
      "for  |  ADP\n",
      "performing  |  VERB\n",
      "the  |  DET\n",
      "task  |  NOUN\n",
      ".  |  PUNCT\n",
      "Machine  |  NOUN\n",
      "learning  |  NOUN\n",
      "is  |  AUX\n",
      "closely  |  ADV\n",
      "related  |  VERB\n",
      "to  |  ADP\n",
      "computational  |  ADJ\n",
      "statistics  |  NOUN\n",
      ",  |  PUNCT\n",
      "which  |  PRON\n",
      "focuses  |  VERB\n",
      "on  |  ADP\n",
      "making  |  VERB\n",
      "predictions  |  NOUN\n",
      "using  |  VERB\n",
      "computers  |  NOUN\n",
      ".  |  PUNCT\n",
      "The  |  DET\n",
      "study  |  NOUN\n",
      "of  |  ADP\n",
      "mathematical  |  ADJ\n",
      "optimization  |  NOUN\n",
      "delivers  |  VERB\n",
      "methods  |  NOUN\n",
      ",  |  PUNCT\n",
      "theory  |  NOUN\n",
      "and  |  CCONJ\n",
      "application  |  NOUN\n",
      "domains  |  NOUN\n",
      "to  |  ADP\n",
      "the  |  DET\n",
      "field  |  NOUN\n",
      "of  |  ADP\n",
      "machine  |  NOUN\n",
      "learning  |  NOUN\n",
      ".  |  PUNCT\n",
      "Data  |  NOUN\n",
      "mining  |  NOUN\n",
      "is  |  AUX\n",
      "a  |  DET\n",
      "field  |  NOUN\n",
      "of  |  ADP\n",
      "study  |  NOUN\n",
      "within  |  ADP\n",
      "machine  |  NOUN\n",
      "learning  |  NOUN\n",
      "and  |  CCONJ\n",
      "focuses  |  VERB\n",
      "on  |  ADP\n",
      "exploratory  |  ADJ\n",
      "data  |  NOUN\n",
      "analysis  |  NOUN\n",
      "through  |  ADP\n",
      "unsupervised  |  ADJ\n",
      "learning  |  NOUN\n",
      ".  |  PUNCT\n",
      "In  |  ADP\n",
      "its  |  PRON\n",
      "application  |  NOUN\n",
      "across  |  ADP\n",
      "business  |  NOUN\n",
      "problems  |  NOUN\n",
      ",  |  PUNCT\n",
      "machine  |  NOUN\n",
      "learning  |  NOUN\n",
      "is  |  AUX\n",
      "also  |  ADV\n",
      "referred  |  VERB\n",
      "to  |  ADP\n",
      "as  |  ADP\n",
      "predictive  |  ADJ\n",
      "analytics  |  NOUN\n",
      ".  |  PUNCT\n"
     ]
    }
   ],
   "source": [
    "for token in doc:\n",
    "    print(token, \" | \" ,token.pos_)"
   ]
  }
 ],
 "metadata": {
  "kernelspec": {
   "display_name": "Python 3 (ipykernel)",
   "language": "python",
   "name": "python3"
  },
  "language_info": {
   "codemirror_mode": {
    "name": "ipython",
    "version": 3
   },
   "file_extension": ".py",
   "mimetype": "text/x-python",
   "name": "python",
   "nbconvert_exporter": "python",
   "pygments_lexer": "ipython3",
   "version": "3.11.4"
  }
 },
 "nbformat": 4,
 "nbformat_minor": 5
}
